{
 "cells": [
  {
   "cell_type": "code",
   "execution_count": 1,
   "metadata": {},
   "outputs": [],
   "source": [
    "import pandas as pd\n",
    "import numpy as np\n",
    "import re"
   ]
  },
  {
   "cell_type": "code",
   "execution_count": null,
   "metadata": {},
   "outputs": [],
   "source": [
    "#df_O_ING = pd.read_csv('O_OPENFF/O_ingredients.csv')\n",
    "df_O_PROD = pd.read_csv('O_OPENFF/O_produits.csv')\n",
    "#df_O_PROD_ING = df_O_ING.merge(df_O_PROD, left_on='_id', right_on='_id')\n",
    "\n",
    "df_N_FR_FEC = pd.read_csv('N_NIELSEN/N_FRANCE_FEC.csv')"
   ]
  },
  {
   "cell_type": "code",
   "execution_count": null,
   "metadata": {},
   "outputs": [],
   "source": [
    "df_N_FR_FEC_VV = df_N_FR_FEC[df_N_FR_FEC['KPI'] == 'Ventes Volume  ']  #espaces à virer"
   ]
  },
  {
   "cell_type": "code",
   "execution_count": null,
   "metadata": {},
   "outputs": [],
   "source": [
    "new_cols = ['EAN13_num', 'MARQUE', 'RECETTES', 'ORGANIC', 'WEIGHT_num', 'EMBALLAGE', 'GAMME', 'FORMAT',\n",
    "       'COMPTE', 'STD/PROMO', 'ITEM', 'CAM AN-1', 'DERNIER CAM', 'EAN13', 'WEIGHT',\n",
    "       'NIELSEN_DESCRIPTION', 'INITIAL_INDEX']\n",
    "\n",
    "df_prod = df_N_FR_FEC_VV.loc[:, new_cols]"
   ]
  },
  {
   "cell_type": "code",
   "execution_count": null,
   "metadata": {},
   "outputs": [],
   "source": []
  },
  {
   "cell_type": "code",
   "execution_count": null,
   "metadata": {},
   "outputs": [],
   "source": []
  },
  {
   "cell_type": "code",
   "execution_count": null,
   "metadata": {},
   "outputs": [],
   "source": []
  },
  {
   "cell_type": "code",
   "execution_count": null,
   "metadata": {},
   "outputs": [],
   "source": []
  },
  {
   "cell_type": "code",
   "execution_count": null,
   "metadata": {},
   "outputs": [],
   "source": []
  },
  {
   "cell_type": "code",
   "execution_count": null,
   "metadata": {},
   "outputs": [],
   "source": []
  },
  {
   "cell_type": "code",
   "execution_count": null,
   "metadata": {},
   "outputs": [],
   "source": []
  },
  {
   "cell_type": "code",
   "execution_count": null,
   "metadata": {},
   "outputs": [],
   "source": []
  }
 ],
 "metadata": {
  "kernelspec": {
   "display_name": "Python 3",
   "language": "python",
   "name": "python3"
  },
  "language_info": {
   "codemirror_mode": {
    "name": "ipython",
    "version": 3
   },
   "file_extension": ".py",
   "mimetype": "text/x-python",
   "name": "python",
   "nbconvert_exporter": "python",
   "pygments_lexer": "ipython3",
   "version": "3.7.4"
  }
 },
 "nbformat": 4,
 "nbformat_minor": 2
}
