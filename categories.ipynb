{
 "cells": [
  {
   "cell_type": "code",
   "execution_count": 1,
   "metadata": {},
   "outputs": [
    {
     "name": "stdout",
     "output_type": "stream",
     "text": [
      "/Users/alexei/italians_do_it_better\r\n"
     ]
    }
   ],
   "source": [
    "!pwd"
   ]
  },
  {
   "cell_type": "code",
   "execution_count": 2,
   "metadata": {},
   "outputs": [
    {
     "name": "stdout",
     "output_type": "stream",
     "text": [
      "\u001b[34mN_NIELSEN\u001b[m\u001b[m                               O_produits_EAN13.csv\r\n",
      "N_nielsen.ipynb                         README.md\r\n",
      "O_ingredients.csv                       categories.ipynb\r\n",
      "O_ingredients.ipynb                     ingredients.csv\r\n",
      "O_produits.csv                          mongo db - champs à sélectionner.docx\r\n",
      "O_produits.ipynb                        nielsen.csv\r\n"
     ]
    }
   ],
   "source": [
    "!ls"
   ]
  },
  {
   "cell_type": "code",
   "execution_count": 12,
   "metadata": {},
   "outputs": [],
   "source": [
    "import pandas as pd\n",
    "import numpy as np\n",
    "import re"
   ]
  },
  {
   "cell_type": "code",
   "execution_count": 132,
   "metadata": {},
   "outputs": [],
   "source": [
    "df = pd.read_csv('O_produits_EAN13.csv')"
   ]
  },
  {
   "cell_type": "code",
   "execution_count": 133,
   "metadata": {},
   "outputs": [],
   "source": [
    "df[\"CATEGORY\"] = \"test\"\n",
    "df[\"SUB_CATEGORY\"] = \"test\""
   ]
  },
  {
   "cell_type": "code",
   "execution_count": 134,
   "metadata": {},
   "outputs": [],
   "source": [
    "df['ingredients_text'].fillna(\" \", inplace=True)\n",
    "df['product_name'].fillna(\" \", inplace=True)"
   ]
  },
  {
   "cell_type": "code",
   "execution_count": null,
   "metadata": {},
   "outputs": [],
   "source": []
  },
  {
   "cell_type": "code",
   "execution_count": 135,
   "metadata": {},
   "outputs": [
    {
     "name": "stderr",
     "output_type": "stream",
     "text": [
      "/opt/anaconda3/lib/python3.7/site-packages/ipykernel_launcher.py:2: SettingWithCopyWarning: \n",
      "A value is trying to be set on a copy of a slice from a DataFrame\n",
      "\n",
      "See the caveats in the documentation: http://pandas.pydata.org/pandas-docs/stable/user_guide/indexing.html#returning-a-view-versus-a-copy\n",
      "  \n"
     ]
    }
   ],
   "source": [
    "contains_tomate = df['ingredients_text'].str.contains('Tomate', regex=True, flags=re.IGNORECASE)\n",
    "df.loc[:, 'CATEGORY'][contains_tomate] = 'TOMATES'"
   ]
  },
  {
   "cell_type": "code",
   "execution_count": null,
   "metadata": {},
   "outputs": [],
   "source": []
  },
  {
   "cell_type": "code",
   "execution_count": null,
   "metadata": {},
   "outputs": [],
   "source": []
  },
  {
   "cell_type": "code",
   "execution_count": 160,
   "metadata": {},
   "outputs": [
    {
     "name": "stderr",
     "output_type": "stream",
     "text": [
      "/opt/anaconda3/lib/python3.7/site-packages/ipykernel_launcher.py:2: SettingWithCopyWarning: \n",
      "A value is trying to be set on a copy of a slice from a DataFrame\n",
      "\n",
      "See the caveats in the documentation: http://pandas.pydata.org/pandas-docs/stable/user_guide/indexing.html#returning-a-view-versus-a-copy\n",
      "  \n",
      "/opt/anaconda3/lib/python3.7/site-packages/ipykernel_launcher.py:3: SettingWithCopyWarning: \n",
      "A value is trying to be set on a copy of a slice from a DataFrame\n",
      "\n",
      "See the caveats in the documentation: http://pandas.pydata.org/pandas-docs/stable/user_guide/indexing.html#returning-a-view-versus-a-copy\n",
      "  This is separate from the ipykernel package so we can avoid doing imports until\n"
     ]
    }
   ],
   "source": [
    "is_provencale = df['product_name'].str.contains('Provençale', regex=True, flags=re.IGNORECASE)\n",
    "df.loc[:, 'SUB_CATEGORY'][is_provencale] = 'PROVENCALE'\n",
    "df.loc[:, 'CATEGORY'][is_provencale] = 'TOMATES'"
   ]
  },
  {
   "cell_type": "code",
   "execution_count": null,
   "metadata": {},
   "outputs": [],
   "source": []
  },
  {
   "cell_type": "code",
   "execution_count": null,
   "metadata": {},
   "outputs": [],
   "source": []
  },
  {
   "cell_type": "code",
   "execution_count": 137,
   "metadata": {},
   "outputs": [
    {
     "name": "stderr",
     "output_type": "stream",
     "text": [
      "/opt/anaconda3/lib/python3.7/site-packages/ipykernel_launcher.py:2: SettingWithCopyWarning: \n",
      "A value is trying to be set on a copy of a slice from a DataFrame\n",
      "\n",
      "See the caveats in the documentation: http://pandas.pydata.org/pandas-docs/stable/user_guide/indexing.html#returning-a-view-versus-a-copy\n",
      "  \n",
      "/opt/anaconda3/lib/python3.7/site-packages/ipykernel_launcher.py:3: SettingWithCopyWarning: \n",
      "A value is trying to be set on a copy of a slice from a DataFrame\n",
      "\n",
      "See the caveats in the documentation: http://pandas.pydata.org/pandas-docs/stable/user_guide/indexing.html#returning-a-view-versus-a-copy\n",
      "  This is separate from the ipykernel package so we can avoid doing imports until\n"
     ]
    }
   ],
   "source": [
    "is_puttanesca = df['product_name'].str.contains('Puttanesca', regex=True, flags=re.IGNORECASE)\n",
    "df.loc[:, 'SUB_CATEGORY'][is_puttanesca] = 'PUTTANESCA'\n",
    "df.loc[:, 'CATEGORY'][is_puttanesca] = 'TOMATES'"
   ]
  },
  {
   "cell_type": "code",
   "execution_count": null,
   "metadata": {},
   "outputs": [],
   "source": []
  },
  {
   "cell_type": "code",
   "execution_count": 24,
   "metadata": {},
   "outputs": [],
   "source": []
  },
  {
   "cell_type": "code",
   "execution_count": 138,
   "metadata": {},
   "outputs": [
    {
     "name": "stderr",
     "output_type": "stream",
     "text": [
      "/opt/anaconda3/lib/python3.7/site-packages/ipykernel_launcher.py:2: SettingWithCopyWarning: \n",
      "A value is trying to be set on a copy of a slice from a DataFrame\n",
      "\n",
      "See the caveats in the documentation: http://pandas.pydata.org/pandas-docs/stable/user_guide/indexing.html#returning-a-view-versus-a-copy\n",
      "  \n",
      "/opt/anaconda3/lib/python3.7/site-packages/ipykernel_launcher.py:3: SettingWithCopyWarning: \n",
      "A value is trying to be set on a copy of a slice from a DataFrame\n",
      "\n",
      "See the caveats in the documentation: http://pandas.pydata.org/pandas-docs/stable/user_guide/indexing.html#returning-a-view-versus-a-copy\n",
      "  This is separate from the ipykernel package so we can avoid doing imports until\n"
     ]
    }
   ],
   "source": [
    "is_arrabbiata = df['product_name'].str.contains('arrabbiata', regex=True, flags=re.IGNORECASE)\n",
    "df.loc[:, 'SUB_CATEGORY'][is_arrabbiata] = 'ARRABBIATA'\n",
    "df.loc[:, 'CATEGORY'][is_arrabbiata] = 'TOMATES'"
   ]
  },
  {
   "cell_type": "code",
   "execution_count": null,
   "metadata": {},
   "outputs": [],
   "source": []
  },
  {
   "cell_type": "code",
   "execution_count": null,
   "metadata": {},
   "outputs": [],
   "source": []
  },
  {
   "cell_type": "code",
   "execution_count": 139,
   "metadata": {},
   "outputs": [
    {
     "name": "stderr",
     "output_type": "stream",
     "text": [
      "/opt/anaconda3/lib/python3.7/site-packages/ipykernel_launcher.py:2: SettingWithCopyWarning: \n",
      "A value is trying to be set on a copy of a slice from a DataFrame\n",
      "\n",
      "See the caveats in the documentation: http://pandas.pydata.org/pandas-docs/stable/user_guide/indexing.html#returning-a-view-versus-a-copy\n",
      "  \n",
      "/opt/anaconda3/lib/python3.7/site-packages/ipykernel_launcher.py:3: SettingWithCopyWarning: \n",
      "A value is trying to be set on a copy of a slice from a DataFrame\n",
      "\n",
      "See the caveats in the documentation: http://pandas.pydata.org/pandas-docs/stable/user_guide/indexing.html#returning-a-view-versus-a-copy\n",
      "  This is separate from the ipykernel package so we can avoid doing imports until\n"
     ]
    }
   ],
   "source": [
    "is_bolognese = df['product_name'].str.contains('bolognese|bolognaise', regex=True, flags=re.IGNORECASE)\n",
    "df.loc[:, 'SUB_CATEGORY'][is_bolognese] = 'BOLOGNESE'\n",
    "df.loc[:, 'CATEGORY'][is_bolognese] = 'VIANDE_POISSON'"
   ]
  },
  {
   "cell_type": "code",
   "execution_count": null,
   "metadata": {},
   "outputs": [],
   "source": []
  },
  {
   "cell_type": "code",
   "execution_count": null,
   "metadata": {},
   "outputs": [],
   "source": []
  },
  {
   "cell_type": "code",
   "execution_count": 154,
   "metadata": {},
   "outputs": [
    {
     "name": "stderr",
     "output_type": "stream",
     "text": [
      "/opt/anaconda3/lib/python3.7/site-packages/ipykernel_launcher.py:2: SettingWithCopyWarning: \n",
      "A value is trying to be set on a copy of a slice from a DataFrame\n",
      "\n",
      "See the caveats in the documentation: http://pandas.pydata.org/pandas-docs/stable/user_guide/indexing.html#returning-a-view-versus-a-copy\n",
      "  \n",
      "/opt/anaconda3/lib/python3.7/site-packages/ipykernel_launcher.py:3: SettingWithCopyWarning: \n",
      "A value is trying to be set on a copy of a slice from a DataFrame\n",
      "\n",
      "See the caveats in the documentation: http://pandas.pydata.org/pandas-docs/stable/user_guide/indexing.html#returning-a-view-versus-a-copy\n",
      "  This is separate from the ipykernel package so we can avoid doing imports until\n"
     ]
    }
   ],
   "source": [
    "is_chorizo = df['product_name'].str.contains('chorizo', regex=True, flags=re.IGNORECASE)\n",
    "df.loc[:, 'SUB_CATEGORY'][is_chorizo] = 'CHORIZO'\n",
    "df.loc[:, 'CATEGORY'][is_chorizo] = 'VIANDE_POISSON'"
   ]
  },
  {
   "cell_type": "code",
   "execution_count": null,
   "metadata": {},
   "outputs": [],
   "source": []
  },
  {
   "cell_type": "code",
   "execution_count": null,
   "metadata": {},
   "outputs": [],
   "source": []
  },
  {
   "cell_type": "code",
   "execution_count": 157,
   "metadata": {},
   "outputs": [
    {
     "name": "stderr",
     "output_type": "stream",
     "text": [
      "/opt/anaconda3/lib/python3.7/site-packages/ipykernel_launcher.py:2: SettingWithCopyWarning: \n",
      "A value is trying to be set on a copy of a slice from a DataFrame\n",
      "\n",
      "See the caveats in the documentation: http://pandas.pydata.org/pandas-docs/stable/user_guide/indexing.html#returning-a-view-versus-a-copy\n",
      "  \n",
      "/opt/anaconda3/lib/python3.7/site-packages/ipykernel_launcher.py:3: SettingWithCopyWarning: \n",
      "A value is trying to be set on a copy of a slice from a DataFrame\n",
      "\n",
      "See the caveats in the documentation: http://pandas.pydata.org/pandas-docs/stable/user_guide/indexing.html#returning-a-view-versus-a-copy\n",
      "  This is separate from the ipykernel package so we can avoid doing imports until\n"
     ]
    }
   ],
   "source": [
    "is_poulet = df['product_name'].str.contains('poulet', regex=True, flags=re.IGNORECASE)\n",
    "df.loc[:, 'SUB_CATEGORY'][is_poulet] = 'POULET'\n",
    "df.loc[:, 'CATEGORY'][is_poulet] = 'VIANDE_POISSON'"
   ]
  },
  {
   "cell_type": "code",
   "execution_count": null,
   "metadata": {},
   "outputs": [],
   "source": []
  },
  {
   "cell_type": "code",
   "execution_count": null,
   "metadata": {},
   "outputs": [],
   "source": []
  },
  {
   "cell_type": "code",
   "execution_count": 155,
   "metadata": {},
   "outputs": [
    {
     "name": "stderr",
     "output_type": "stream",
     "text": [
      "/opt/anaconda3/lib/python3.7/site-packages/ipykernel_launcher.py:2: SettingWithCopyWarning: \n",
      "A value is trying to be set on a copy of a slice from a DataFrame\n",
      "\n",
      "See the caveats in the documentation: http://pandas.pydata.org/pandas-docs/stable/user_guide/indexing.html#returning-a-view-versus-a-copy\n",
      "  \n",
      "/opt/anaconda3/lib/python3.7/site-packages/ipykernel_launcher.py:3: SettingWithCopyWarning: \n",
      "A value is trying to be set on a copy of a slice from a DataFrame\n",
      "\n",
      "See the caveats in the documentation: http://pandas.pydata.org/pandas-docs/stable/user_guide/indexing.html#returning-a-view-versus-a-copy\n",
      "  This is separate from the ipykernel package so we can avoid doing imports until\n"
     ]
    }
   ],
   "source": [
    "is_poisson = df['product_name'].str.contains('poisson', regex=True, flags=re.IGNORECASE)\n",
    "df.loc[:, 'SUB_CATEGORY'][is_poisson] = 'POISSON'\n",
    "df.loc[:, 'CATEGORY'][is_poisson] = 'VIANDE_POISSON'"
   ]
  },
  {
   "cell_type": "code",
   "execution_count": null,
   "metadata": {},
   "outputs": [],
   "source": []
  },
  {
   "cell_type": "code",
   "execution_count": null,
   "metadata": {},
   "outputs": [],
   "source": []
  },
  {
   "cell_type": "code",
   "execution_count": 140,
   "metadata": {},
   "outputs": [
    {
     "name": "stderr",
     "output_type": "stream",
     "text": [
      "/opt/anaconda3/lib/python3.7/site-packages/ipykernel_launcher.py:2: SettingWithCopyWarning: \n",
      "A value is trying to be set on a copy of a slice from a DataFrame\n",
      "\n",
      "See the caveats in the documentation: http://pandas.pydata.org/pandas-docs/stable/user_guide/indexing.html#returning-a-view-versus-a-copy\n",
      "  \n",
      "/opt/anaconda3/lib/python3.7/site-packages/ipykernel_launcher.py:3: SettingWithCopyWarning: \n",
      "A value is trying to be set on a copy of a slice from a DataFrame\n",
      "\n",
      "See the caveats in the documentation: http://pandas.pydata.org/pandas-docs/stable/user_guide/indexing.html#returning-a-view-versus-a-copy\n",
      "  This is separate from the ipykernel package so we can avoid doing imports until\n"
     ]
    }
   ],
   "source": [
    "is_genovese = df['product_name'].str.contains('genovese', regex=True, flags=re.IGNORECASE)\n",
    "df.loc[:, 'SUB_CATEGORY'][is_genovese] = 'GENOVESE'\n",
    "df.loc[:, 'CATEGORY'][is_genovese] = 'PESTI'"
   ]
  },
  {
   "cell_type": "code",
   "execution_count": null,
   "metadata": {},
   "outputs": [],
   "source": []
  },
  {
   "cell_type": "code",
   "execution_count": null,
   "metadata": {},
   "outputs": [],
   "source": []
  },
  {
   "cell_type": "code",
   "execution_count": 141,
   "metadata": {},
   "outputs": [
    {
     "name": "stderr",
     "output_type": "stream",
     "text": [
      "/opt/anaconda3/lib/python3.7/site-packages/ipykernel_launcher.py:2: SettingWithCopyWarning: \n",
      "A value is trying to be set on a copy of a slice from a DataFrame\n",
      "\n",
      "See the caveats in the documentation: http://pandas.pydata.org/pandas-docs/stable/user_guide/indexing.html#returning-a-view-versus-a-copy\n",
      "  \n",
      "/opt/anaconda3/lib/python3.7/site-packages/ipykernel_launcher.py:3: SettingWithCopyWarning: \n",
      "A value is trying to be set on a copy of a slice from a DataFrame\n",
      "\n",
      "See the caveats in the documentation: http://pandas.pydata.org/pandas-docs/stable/user_guide/indexing.html#returning-a-view-versus-a-copy\n",
      "  This is separate from the ipykernel package so we can avoid doing imports until\n"
     ]
    }
   ],
   "source": [
    "is_pesto_rosso = df['product_name'].str.contains('pesto rosso', regex=True, flags=re.IGNORECASE)\n",
    "df.loc[:, 'SUB_CATEGORY'][is_pesto_rosso] = 'PESTO_ROSSO'\n",
    "df.loc[:, 'CATEGORY'][is_pesto_rosso] = 'PESTI'"
   ]
  },
  {
   "cell_type": "code",
   "execution_count": null,
   "metadata": {},
   "outputs": [],
   "source": []
  },
  {
   "cell_type": "code",
   "execution_count": null,
   "metadata": {},
   "outputs": [],
   "source": []
  },
  {
   "cell_type": "code",
   "execution_count": 142,
   "metadata": {},
   "outputs": [
    {
     "name": "stderr",
     "output_type": "stream",
     "text": [
      "/opt/anaconda3/lib/python3.7/site-packages/ipykernel_launcher.py:2: SettingWithCopyWarning: \n",
      "A value is trying to be set on a copy of a slice from a DataFrame\n",
      "\n",
      "See the caveats in the documentation: http://pandas.pydata.org/pandas-docs/stable/user_guide/indexing.html#returning-a-view-versus-a-copy\n",
      "  \n",
      "/opt/anaconda3/lib/python3.7/site-packages/ipykernel_launcher.py:3: SettingWithCopyWarning: \n",
      "A value is trying to be set on a copy of a slice from a DataFrame\n",
      "\n",
      "See the caveats in the documentation: http://pandas.pydata.org/pandas-docs/stable/user_guide/indexing.html#returning-a-view-versus-a-copy\n",
      "  This is separate from the ipykernel package so we can avoid doing imports until\n"
     ]
    }
   ],
   "source": [
    "is_pesto_calabrese = df['product_name'].str.contains('pesto calabrese', regex=True, flags=re.IGNORECASE)\n",
    "df.loc[:, 'SUB_CATEGORY'][is_pesto_calabrese] = 'PESTO_CALABRESE'\n",
    "df.loc[:, 'CATEGORY'][is_pesto_calabrese] = 'PESTI'"
   ]
  },
  {
   "cell_type": "code",
   "execution_count": null,
   "metadata": {},
   "outputs": [],
   "source": []
  },
  {
   "cell_type": "code",
   "execution_count": null,
   "metadata": {},
   "outputs": [],
   "source": []
  },
  {
   "cell_type": "code",
   "execution_count": 143,
   "metadata": {},
   "outputs": [
    {
     "name": "stderr",
     "output_type": "stream",
     "text": [
      "/opt/anaconda3/lib/python3.7/site-packages/ipykernel_launcher.py:2: SettingWithCopyWarning: \n",
      "A value is trying to be set on a copy of a slice from a DataFrame\n",
      "\n",
      "See the caveats in the documentation: http://pandas.pydata.org/pandas-docs/stable/user_guide/indexing.html#returning-a-view-versus-a-copy\n",
      "  \n",
      "/opt/anaconda3/lib/python3.7/site-packages/ipykernel_launcher.py:3: SettingWithCopyWarning: \n",
      "A value is trying to be set on a copy of a slice from a DataFrame\n",
      "\n",
      "See the caveats in the documentation: http://pandas.pydata.org/pandas-docs/stable/user_guide/indexing.html#returning-a-view-versus-a-copy\n",
      "  This is separate from the ipykernel package so we can avoid doing imports until\n"
     ]
    }
   ],
   "source": [
    "is_pesto_citron = df['product_name'].str.contains('pesto citron', regex=True, flags=re.IGNORECASE)\n",
    "df.loc[:, 'SUB_CATEGORY'][is_pesto_citron] = 'PESTO_CITRON'\n",
    "df.loc[:, 'CATEGORY'][is_pesto_citron] = 'PESTI'"
   ]
  },
  {
   "cell_type": "code",
   "execution_count": null,
   "metadata": {},
   "outputs": [],
   "source": []
  },
  {
   "cell_type": "code",
   "execution_count": null,
   "metadata": {},
   "outputs": [],
   "source": []
  },
  {
   "cell_type": "code",
   "execution_count": 144,
   "metadata": {},
   "outputs": [
    {
     "name": "stderr",
     "output_type": "stream",
     "text": [
      "/opt/anaconda3/lib/python3.7/site-packages/ipykernel_launcher.py:2: SettingWithCopyWarning: \n",
      "A value is trying to be set on a copy of a slice from a DataFrame\n",
      "\n",
      "See the caveats in the documentation: http://pandas.pydata.org/pandas-docs/stable/user_guide/indexing.html#returning-a-view-versus-a-copy\n",
      "  \n",
      "/opt/anaconda3/lib/python3.7/site-packages/ipykernel_launcher.py:3: SettingWithCopyWarning: \n",
      "A value is trying to be set on a copy of a slice from a DataFrame\n",
      "\n",
      "See the caveats in the documentation: http://pandas.pydata.org/pandas-docs/stable/user_guide/indexing.html#returning-a-view-versus-a-copy\n",
      "  This is separate from the ipykernel package so we can avoid doing imports until\n"
     ]
    }
   ],
   "source": [
    "is_carbonara = df['product_name'].str.contains('carbonara', regex=True, flags=re.IGNORECASE)\n",
    "df.loc[:, 'SUB_CATEGORY'][is_carbonara] = 'CARBONARA'\n",
    "df.loc[:, 'CATEGORY'][is_carbonara] = 'FROMAGE'"
   ]
  },
  {
   "cell_type": "code",
   "execution_count": null,
   "metadata": {},
   "outputs": [],
   "source": []
  },
  {
   "cell_type": "code",
   "execution_count": null,
   "metadata": {},
   "outputs": [],
   "source": [
    "#probleme!!! ecrase sauces pesto!!!"
   ]
  },
  {
   "cell_type": "code",
   "execution_count": 145,
   "metadata": {},
   "outputs": [
    {
     "name": "stderr",
     "output_type": "stream",
     "text": [
      "/opt/anaconda3/lib/python3.7/site-packages/ipykernel_launcher.py:2: SettingWithCopyWarning: \n",
      "A value is trying to be set on a copy of a slice from a DataFrame\n",
      "\n",
      "See the caveats in the documentation: http://pandas.pydata.org/pandas-docs/stable/user_guide/indexing.html#returning-a-view-versus-a-copy\n",
      "  \n",
      "/opt/anaconda3/lib/python3.7/site-packages/ipykernel_launcher.py:3: SettingWithCopyWarning: \n",
      "A value is trying to be set on a copy of a slice from a DataFrame\n",
      "\n",
      "See the caveats in the documentation: http://pandas.pydata.org/pandas-docs/stable/user_guide/indexing.html#returning-a-view-versus-a-copy\n",
      "  This is separate from the ipykernel package so we can avoid doing imports until\n"
     ]
    }
   ],
   "source": [
    "is_fromages = df['ingredients_text'].str.contains('ricotta|parmigiano', regex=True, flags=re.IGNORECASE)\n",
    "df.loc[:, 'SUB_CATEGORY'][is_fromages] = 'FROMAGES'\n",
    "df.loc[:, 'CATEGORY'][is_fromages] = 'FROMAGE'"
   ]
  },
  {
   "cell_type": "code",
   "execution_count": null,
   "metadata": {},
   "outputs": [],
   "source": []
  },
  {
   "cell_type": "code",
   "execution_count": null,
   "metadata": {},
   "outputs": [],
   "source": []
  },
  {
   "cell_type": "code",
   "execution_count": null,
   "metadata": {},
   "outputs": [],
   "source": []
  },
  {
   "cell_type": "code",
   "execution_count": null,
   "metadata": {},
   "outputs": [],
   "source": []
  },
  {
   "cell_type": "code",
   "execution_count": null,
   "metadata": {},
   "outputs": [],
   "source": []
  },
  {
   "cell_type": "code",
   "execution_count": null,
   "metadata": {},
   "outputs": [],
   "source": []
  },
  {
   "cell_type": "code",
   "execution_count": null,
   "metadata": {},
   "outputs": [],
   "source": []
  },
  {
   "cell_type": "code",
   "execution_count": null,
   "metadata": {},
   "outputs": [],
   "source": []
  },
  {
   "cell_type": "code",
   "execution_count": 161,
   "metadata": {},
   "outputs": [
    {
     "data": {
      "text/html": [
       "<div>\n",
       "<style scoped>\n",
       "    .dataframe tbody tr th:only-of-type {\n",
       "        vertical-align: middle;\n",
       "    }\n",
       "\n",
       "    .dataframe tbody tr th {\n",
       "        vertical-align: top;\n",
       "    }\n",
       "\n",
       "    .dataframe thead th {\n",
       "        text-align: right;\n",
       "    }\n",
       "</style>\n",
       "<table border=\"1\" class=\"dataframe\">\n",
       "  <thead>\n",
       "    <tr style=\"text-align: right;\">\n",
       "      <th></th>\n",
       "      <th>Unnamed: 0</th>\n",
       "      <th>_id</th>\n",
       "      <th>categories</th>\n",
       "      <th>ingredients</th>\n",
       "      <th>nutriments</th>\n",
       "      <th>product_name</th>\n",
       "      <th>manufacturing_places</th>\n",
       "      <th>category_properties</th>\n",
       "      <th>ingredients_text</th>\n",
       "      <th>product_name_fr</th>\n",
       "      <th>...</th>\n",
       "      <th>sugars_100g</th>\n",
       "      <th>fruits_vegetables_nuts_estimate_from_ingredients_100g</th>\n",
       "      <th>proteins_100g</th>\n",
       "      <th>sodium_100g</th>\n",
       "      <th>salt_100g</th>\n",
       "      <th>nutrition_score_fr_100g</th>\n",
       "      <th>fiber_100g</th>\n",
       "      <th>nova_group_100g</th>\n",
       "      <th>CATEGORY</th>\n",
       "      <th>SUB_CATEGORY</th>\n",
       "    </tr>\n",
       "  </thead>\n",
       "  <tbody>\n",
       "    <tr>\n",
       "      <td>3</td>\n",
       "      <td>3</td>\n",
       "      <td>3017239003990</td>\n",
       "      <td>NaN</td>\n",
       "      <td>[]</td>\n",
       "      <td>{'saturated-fat': 1, 'sodium_unit': 'g', 'satu...</td>\n",
       "      <td>Sauce aux Olives Citron Confit</td>\n",
       "      <td>NaN</td>\n",
       "      <td>{}</td>\n",
       "      <td></td>\n",
       "      <td>NaN</td>\n",
       "      <td>...</td>\n",
       "      <td>3.5</td>\n",
       "      <td>NaN</td>\n",
       "      <td>1.4</td>\n",
       "      <td>0.56</td>\n",
       "      <td>1.4</td>\n",
       "      <td>NaN</td>\n",
       "      <td>NaN</td>\n",
       "      <td>NaN</td>\n",
       "      <td>test</td>\n",
       "      <td>test</td>\n",
       "    </tr>\n",
       "    <tr>\n",
       "      <td>4</td>\n",
       "      <td>4</td>\n",
       "      <td>3017239004003</td>\n",
       "      <td>Epicerie, Sauces, Sauces tomate, Sauces tomate...</td>\n",
       "      <td>['Tomate', 'champignon', 'olive verte égouttée...</td>\n",
       "      <td>{'carbohydrates': 4.1, 'proteins_100g': 1.5, '...</td>\n",
       "      <td>Sauce aux olives champignons</td>\n",
       "      <td>France</td>\n",
       "      <td>{'ciqual_food_name:en': 'Tomato sauce, w mushr...</td>\n",
       "      <td>Tomate (36 %), champignon (24 %), olive verte ...</td>\n",
       "      <td>Sauce aux olives champignons</td>\n",
       "      <td>...</td>\n",
       "      <td>2.5</td>\n",
       "      <td>36.000000</td>\n",
       "      <td>1.5</td>\n",
       "      <td>0.48</td>\n",
       "      <td>1.2</td>\n",
       "      <td>7.0</td>\n",
       "      <td>NaN</td>\n",
       "      <td>4.0</td>\n",
       "      <td>TOMATES</td>\n",
       "      <td>test</td>\n",
       "    </tr>\n",
       "    <tr>\n",
       "      <td>5</td>\n",
       "      <td>5</td>\n",
       "      <td>3017239004010</td>\n",
       "      <td>Epicerie, Sauces, Sauces aux légumes, Sauces a...</td>\n",
       "      <td>['Tomate', 'olive', 'poivron', \"huile d'olive\"...</td>\n",
       "      <td>{'sodium': 0.44000000000000006, 'salt': 1.1, '...</td>\n",
       "      <td>Tramier</td>\n",
       "      <td>France</td>\n",
       "      <td>{}</td>\n",
       "      <td>Tomate (50 %), olive (27 %) (dont olive verte ...</td>\n",
       "      <td>Tramier</td>\n",
       "      <td>...</td>\n",
       "      <td>3.2</td>\n",
       "      <td>57.355556</td>\n",
       "      <td>1.4</td>\n",
       "      <td>0.44</td>\n",
       "      <td>1.1</td>\n",
       "      <td>5.0</td>\n",
       "      <td>NaN</td>\n",
       "      <td>3.0</td>\n",
       "      <td>TOMATES</td>\n",
       "      <td>test</td>\n",
       "    </tr>\n",
       "    <tr>\n",
       "      <td>7</td>\n",
       "      <td>7</td>\n",
       "      <td>3021690017250</td>\n",
       "      <td>Epicerie, Sauces, Sauces tomate, Sauces napoli...</td>\n",
       "      <td>['pulpe de tomate avec morceaux et purée de to...</td>\n",
       "      <td>{'proteins': 1.3, 'energy_value': 269, 'protei...</td>\n",
       "      <td>Napolitaine</td>\n",
       "      <td>Espagne</td>\n",
       "      <td>{}</td>\n",
       "      <td>pulpe de tomate avec morceaux et purée de toma...</td>\n",
       "      <td>Napolitaine</td>\n",
       "      <td>...</td>\n",
       "      <td>7.1</td>\n",
       "      <td>11.100000</td>\n",
       "      <td>1.3</td>\n",
       "      <td>0.40</td>\n",
       "      <td>1.0</td>\n",
       "      <td>4.0</td>\n",
       "      <td>1.5</td>\n",
       "      <td>3.0</td>\n",
       "      <td>TOMATES</td>\n",
       "      <td>test</td>\n",
       "    </tr>\n",
       "    <tr>\n",
       "      <td>8</td>\n",
       "      <td>8</td>\n",
       "      <td>3021690017267</td>\n",
       "      <td>Epicerie, Produits à la viande, Sauces, Sauces...</td>\n",
       "      <td>['Purée de tomate mi-réduite', 'viande', 'caro...</td>\n",
       "      <td>{'nova-group_100g': 4, 'energy-kj_100g': 306, ...</td>\n",
       "      <td>La sauce italienne à la viande rôtie</td>\n",
       "      <td>Raynal et Roquelaure Provence - R&amp;R (Filiale C...</td>\n",
       "      <td>{}</td>\n",
       "      <td>Purée de tomate mi-réduite à base de concentré...</td>\n",
       "      <td>La sauce italienne à la viande rôtie</td>\n",
       "      <td>...</td>\n",
       "      <td>6.1</td>\n",
       "      <td>78.700000</td>\n",
       "      <td>3.4</td>\n",
       "      <td>0.48</td>\n",
       "      <td>1.2</td>\n",
       "      <td>2.0</td>\n",
       "      <td>1.6</td>\n",
       "      <td>4.0</td>\n",
       "      <td>TOMATES</td>\n",
       "      <td>test</td>\n",
       "    </tr>\n",
       "    <tr>\n",
       "      <td>...</td>\n",
       "      <td>...</td>\n",
       "      <td>...</td>\n",
       "      <td>...</td>\n",
       "      <td>...</td>\n",
       "      <td>...</td>\n",
       "      <td>...</td>\n",
       "      <td>...</td>\n",
       "      <td>...</td>\n",
       "      <td>...</td>\n",
       "      <td>...</td>\n",
       "      <td>...</td>\n",
       "      <td>...</td>\n",
       "      <td>...</td>\n",
       "      <td>...</td>\n",
       "      <td>...</td>\n",
       "      <td>...</td>\n",
       "      <td>...</td>\n",
       "      <td>...</td>\n",
       "      <td>...</td>\n",
       "      <td>...</td>\n",
       "      <td>...</td>\n",
       "    </tr>\n",
       "    <tr>\n",
       "      <td>1093</td>\n",
       "      <td>1093</td>\n",
       "      <td>8858135071028</td>\n",
       "      <td>Lebensmittel, Fertiggerichte</td>\n",
       "      <td>['Kokosnussmilch', 'Bambussprossen', 'Aubergin...</td>\n",
       "      <td>{'sugars_unit': 'g', 'energy-kj': 399, 'energy...</td>\n",
       "      <td>Grünes Curry mit Gemüse</td>\n",
       "      <td>Thailand</td>\n",
       "      <td>{}</td>\n",
       "      <td>Kokosnussmilch (48%), Bambussprossen (15%), Au...</td>\n",
       "      <td>Real thai curry vert</td>\n",
       "      <td>...</td>\n",
       "      <td>3.7</td>\n",
       "      <td>73.000000</td>\n",
       "      <td>1.5</td>\n",
       "      <td>0.60</td>\n",
       "      <td>1.5</td>\n",
       "      <td>6.0</td>\n",
       "      <td>1.6</td>\n",
       "      <td>3.0</td>\n",
       "      <td>test</td>\n",
       "      <td>test</td>\n",
       "    </tr>\n",
       "    <tr>\n",
       "      <td>1096</td>\n",
       "      <td>1096</td>\n",
       "      <td>9310432330028</td>\n",
       "      <td>Epicerie,Sauces,Sauces Teriyaki</td>\n",
       "      <td>['Sauce _Soja_', 'Mirin', 'Sucre', 'Protéine D...</td>\n",
       "      <td>{'sodium_100g': 4.36, 'carbohydrates_unit': 'g...</td>\n",
       "      <td>Sauce Teriyaki Obento</td>\n",
       "      <td>NaN</td>\n",
       "      <td>{'ciqual_food_name:fr': 'Sauce teriyaki, préem...</td>\n",
       "      <td>Sauce _Soja_ (Eau, _Soja_, _Blé_, Sel) Mirin (...</td>\n",
       "      <td>Sauce Teriyaki Obento</td>\n",
       "      <td>...</td>\n",
       "      <td>37.1</td>\n",
       "      <td>0.000000</td>\n",
       "      <td>8.2</td>\n",
       "      <td>4.36</td>\n",
       "      <td>10.9</td>\n",
       "      <td>21.0</td>\n",
       "      <td>NaN</td>\n",
       "      <td>4.0</td>\n",
       "      <td>test</td>\n",
       "      <td>test</td>\n",
       "    </tr>\n",
       "    <tr>\n",
       "      <td>1097</td>\n",
       "      <td>1097</td>\n",
       "      <td>9325763000083</td>\n",
       "      <td>NaN</td>\n",
       "      <td>NaN</td>\n",
       "      <td>{'energy_100g': 310, 'energy-kcal': 74, 'energ...</td>\n",
       "      <td>Tikka Masala</td>\n",
       "      <td>NaN</td>\n",
       "      <td>{}</td>\n",
       "      <td></td>\n",
       "      <td>Tikka Masala</td>\n",
       "      <td>...</td>\n",
       "      <td>4.5</td>\n",
       "      <td>NaN</td>\n",
       "      <td>2.4</td>\n",
       "      <td>0.28</td>\n",
       "      <td>0.7</td>\n",
       "      <td>NaN</td>\n",
       "      <td>NaN</td>\n",
       "      <td>NaN</td>\n",
       "      <td>test</td>\n",
       "      <td>test</td>\n",
       "    </tr>\n",
       "    <tr>\n",
       "      <td>1098</td>\n",
       "      <td>1098</td>\n",
       "      <td>9556041130981</td>\n",
       "      <td>Epicerie, Sauces</td>\n",
       "      <td>['EAU', 'SUCRE', 'PÂTE DE SOJA', 'AMIDON DE MA...</td>\n",
       "      <td>{'proteins_serving': 0.18, 'sodium': 0.72, 'sa...</td>\n",
       "      <td>Sauce Canard Laqué Ayam™</td>\n",
       "      <td>Malaisie</td>\n",
       "      <td>{}</td>\n",
       "      <td>EAU, SUCRE, PÂTE DE SOJA (GRAINES DE SOJA, EAU...</td>\n",
       "      <td>Sauce Canard Laqué Ayam™</td>\n",
       "      <td>...</td>\n",
       "      <td>17.1</td>\n",
       "      <td>0.000000</td>\n",
       "      <td>1.8</td>\n",
       "      <td>0.72</td>\n",
       "      <td>1.8</td>\n",
       "      <td>11.0</td>\n",
       "      <td>0.0</td>\n",
       "      <td>3.0</td>\n",
       "      <td>test</td>\n",
       "      <td>test</td>\n",
       "    </tr>\n",
       "    <tr>\n",
       "      <td>1099</td>\n",
       "      <td>1099</td>\n",
       "      <td>9556041612005</td>\n",
       "      <td>Epicerie, Sauces, Sauces au poivre</td>\n",
       "      <td>[]</td>\n",
       "      <td>{'sodium_value': 0.8, 'salt_100g': 2, 'energy_...</td>\n",
       "      <td>Sauce Wok Poivre Noir</td>\n",
       "      <td>NaN</td>\n",
       "      <td>{'ciqual_food_name:en': 'Sauce, pepper, prepac...</td>\n",
       "      <td></td>\n",
       "      <td>Sauce Wok Poivre Noir</td>\n",
       "      <td>...</td>\n",
       "      <td>8.6</td>\n",
       "      <td>NaN</td>\n",
       "      <td>1.6</td>\n",
       "      <td>0.80</td>\n",
       "      <td>2.0</td>\n",
       "      <td>9.0</td>\n",
       "      <td>NaN</td>\n",
       "      <td>NaN</td>\n",
       "      <td>test</td>\n",
       "      <td>test</td>\n",
       "    </tr>\n",
       "  </tbody>\n",
       "</table>\n",
       "<p>778 rows × 41 columns</p>\n",
       "</div>"
      ],
      "text/plain": [
       "      Unnamed: 0            _id  \\\n",
       "3              3  3017239003990   \n",
       "4              4  3017239004003   \n",
       "5              5  3017239004010   \n",
       "7              7  3021690017250   \n",
       "8              8  3021690017267   \n",
       "...          ...            ...   \n",
       "1093        1093  8858135071028   \n",
       "1096        1096  9310432330028   \n",
       "1097        1097  9325763000083   \n",
       "1098        1098  9556041130981   \n",
       "1099        1099  9556041612005   \n",
       "\n",
       "                                             categories  \\\n",
       "3                                                   NaN   \n",
       "4     Epicerie, Sauces, Sauces tomate, Sauces tomate...   \n",
       "5     Epicerie, Sauces, Sauces aux légumes, Sauces a...   \n",
       "7     Epicerie, Sauces, Sauces tomate, Sauces napoli...   \n",
       "8     Epicerie, Produits à la viande, Sauces, Sauces...   \n",
       "...                                                 ...   \n",
       "1093                       Lebensmittel, Fertiggerichte   \n",
       "1096                    Epicerie,Sauces,Sauces Teriyaki   \n",
       "1097                                                NaN   \n",
       "1098                                   Epicerie, Sauces   \n",
       "1099                 Epicerie, Sauces, Sauces au poivre   \n",
       "\n",
       "                                            ingredients  \\\n",
       "3                                                    []   \n",
       "4     ['Tomate', 'champignon', 'olive verte égouttée...   \n",
       "5     ['Tomate', 'olive', 'poivron', \"huile d'olive\"...   \n",
       "7     ['pulpe de tomate avec morceaux et purée de to...   \n",
       "8     ['Purée de tomate mi-réduite', 'viande', 'caro...   \n",
       "...                                                 ...   \n",
       "1093  ['Kokosnussmilch', 'Bambussprossen', 'Aubergin...   \n",
       "1096  ['Sauce _Soja_', 'Mirin', 'Sucre', 'Protéine D...   \n",
       "1097                                                NaN   \n",
       "1098  ['EAU', 'SUCRE', 'PÂTE DE SOJA', 'AMIDON DE MA...   \n",
       "1099                                                 []   \n",
       "\n",
       "                                             nutriments  \\\n",
       "3     {'saturated-fat': 1, 'sodium_unit': 'g', 'satu...   \n",
       "4     {'carbohydrates': 4.1, 'proteins_100g': 1.5, '...   \n",
       "5     {'sodium': 0.44000000000000006, 'salt': 1.1, '...   \n",
       "7     {'proteins': 1.3, 'energy_value': 269, 'protei...   \n",
       "8     {'nova-group_100g': 4, 'energy-kj_100g': 306, ...   \n",
       "...                                                 ...   \n",
       "1093  {'sugars_unit': 'g', 'energy-kj': 399, 'energy...   \n",
       "1096  {'sodium_100g': 4.36, 'carbohydrates_unit': 'g...   \n",
       "1097  {'energy_100g': 310, 'energy-kcal': 74, 'energ...   \n",
       "1098  {'proteins_serving': 0.18, 'sodium': 0.72, 'sa...   \n",
       "1099  {'sodium_value': 0.8, 'salt_100g': 2, 'energy_...   \n",
       "\n",
       "                              product_name  \\\n",
       "3           Sauce aux Olives Citron Confit   \n",
       "4             Sauce aux olives champignons   \n",
       "5                                  Tramier   \n",
       "7                              Napolitaine   \n",
       "8     La sauce italienne à la viande rôtie   \n",
       "...                                    ...   \n",
       "1093               Grünes Curry mit Gemüse   \n",
       "1096                 Sauce Teriyaki Obento   \n",
       "1097                          Tikka Masala   \n",
       "1098              Sauce Canard Laqué Ayam™   \n",
       "1099                 Sauce Wok Poivre Noir   \n",
       "\n",
       "                                   manufacturing_places  \\\n",
       "3                                                   NaN   \n",
       "4                                                France   \n",
       "5                                                France   \n",
       "7                                               Espagne   \n",
       "8     Raynal et Roquelaure Provence - R&R (Filiale C...   \n",
       "...                                                 ...   \n",
       "1093                                           Thailand   \n",
       "1096                                                NaN   \n",
       "1097                                                NaN   \n",
       "1098                                           Malaisie   \n",
       "1099                                                NaN   \n",
       "\n",
       "                                    category_properties  \\\n",
       "3                                                    {}   \n",
       "4     {'ciqual_food_name:en': 'Tomato sauce, w mushr...   \n",
       "5                                                    {}   \n",
       "7                                                    {}   \n",
       "8                                                    {}   \n",
       "...                                                 ...   \n",
       "1093                                                 {}   \n",
       "1096  {'ciqual_food_name:fr': 'Sauce teriyaki, préem...   \n",
       "1097                                                 {}   \n",
       "1098                                                 {}   \n",
       "1099  {'ciqual_food_name:en': 'Sauce, pepper, prepac...   \n",
       "\n",
       "                                       ingredients_text  \\\n",
       "3                                                         \n",
       "4     Tomate (36 %), champignon (24 %), olive verte ...   \n",
       "5     Tomate (50 %), olive (27 %) (dont olive verte ...   \n",
       "7     pulpe de tomate avec morceaux et purée de toma...   \n",
       "8     Purée de tomate mi-réduite à base de concentré...   \n",
       "...                                                 ...   \n",
       "1093  Kokosnussmilch (48%), Bambussprossen (15%), Au...   \n",
       "1096  Sauce _Soja_ (Eau, _Soja_, _Blé_, Sel) Mirin (...   \n",
       "1097                                                      \n",
       "1098  EAU, SUCRE, PÂTE DE SOJA (GRAINES DE SOJA, EAU...   \n",
       "1099                                                      \n",
       "\n",
       "                           product_name_fr  ... sugars_100g  \\\n",
       "3                                      NaN  ...         3.5   \n",
       "4             Sauce aux olives champignons  ...         2.5   \n",
       "5                                  Tramier  ...         3.2   \n",
       "7                              Napolitaine  ...         7.1   \n",
       "8     La sauce italienne à la viande rôtie  ...         6.1   \n",
       "...                                    ...  ...         ...   \n",
       "1093                  Real thai curry vert  ...         3.7   \n",
       "1096                 Sauce Teriyaki Obento  ...        37.1   \n",
       "1097                          Tikka Masala  ...         4.5   \n",
       "1098              Sauce Canard Laqué Ayam™  ...        17.1   \n",
       "1099                 Sauce Wok Poivre Noir  ...         8.6   \n",
       "\n",
       "      fruits_vegetables_nuts_estimate_from_ingredients_100g proteins_100g  \\\n",
       "3                                                   NaN               1.4   \n",
       "4                                             36.000000               1.5   \n",
       "5                                             57.355556               1.4   \n",
       "7                                             11.100000               1.3   \n",
       "8                                             78.700000               3.4   \n",
       "...                                                 ...               ...   \n",
       "1093                                          73.000000               1.5   \n",
       "1096                                           0.000000               8.2   \n",
       "1097                                                NaN               2.4   \n",
       "1098                                           0.000000               1.8   \n",
       "1099                                                NaN               1.6   \n",
       "\n",
       "     sodium_100g salt_100g nutrition_score_fr_100g fiber_100g nova_group_100g  \\\n",
       "3           0.56       1.4                     NaN        NaN             NaN   \n",
       "4           0.48       1.2                     7.0        NaN             4.0   \n",
       "5           0.44       1.1                     5.0        NaN             3.0   \n",
       "7           0.40       1.0                     4.0        1.5             3.0   \n",
       "8           0.48       1.2                     2.0        1.6             4.0   \n",
       "...          ...       ...                     ...        ...             ...   \n",
       "1093        0.60       1.5                     6.0        1.6             3.0   \n",
       "1096        4.36      10.9                    21.0        NaN             4.0   \n",
       "1097        0.28       0.7                     NaN        NaN             NaN   \n",
       "1098        0.72       1.8                    11.0        0.0             3.0   \n",
       "1099        0.80       2.0                     9.0        NaN             NaN   \n",
       "\n",
       "     CATEGORY  SUB_CATEGORY  \n",
       "3        test          test  \n",
       "4     TOMATES          test  \n",
       "5     TOMATES          test  \n",
       "7     TOMATES          test  \n",
       "8     TOMATES          test  \n",
       "...       ...           ...  \n",
       "1093     test          test  \n",
       "1096     test          test  \n",
       "1097     test          test  \n",
       "1098     test          test  \n",
       "1099     test          test  \n",
       "\n",
       "[778 rows x 41 columns]"
      ]
     },
     "execution_count": 161,
     "metadata": {},
     "output_type": "execute_result"
    }
   ],
   "source": [
    "df[df['SUB_CATEGORY'] == 'test']"
   ]
  },
  {
   "cell_type": "code",
   "execution_count": null,
   "metadata": {},
   "outputs": [],
   "source": []
  },
  {
   "cell_type": "code",
   "execution_count": null,
   "metadata": {},
   "outputs": [],
   "source": []
  },
  {
   "cell_type": "code",
   "execution_count": null,
   "metadata": {},
   "outputs": [],
   "source": []
  },
  {
   "cell_type": "code",
   "execution_count": null,
   "metadata": {},
   "outputs": [],
   "source": []
  }
 ],
 "metadata": {
  "kernelspec": {
   "display_name": "Python 3",
   "language": "python",
   "name": "python3"
  },
  "language_info": {
   "codemirror_mode": {
    "name": "ipython",
    "version": 3
   },
   "file_extension": ".py",
   "mimetype": "text/x-python",
   "name": "python",
   "nbconvert_exporter": "python",
   "pygments_lexer": "ipython3",
   "version": "3.7.4"
  }
 },
 "nbformat": 4,
 "nbformat_minor": 2
}
