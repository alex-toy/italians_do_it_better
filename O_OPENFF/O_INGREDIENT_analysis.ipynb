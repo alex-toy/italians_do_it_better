{
 "cells": [
  {
   "cell_type": "code",
   "execution_count": null,
   "metadata": {},
   "outputs": [],
   "source": [
    "%pwd\n",
    "import pandas as pd\n",
    "prod=pd.read_csv('O_produits_EAN13.csv',index_col=0)\n",
    "print('-'*50,'\\nPRODUCTS\\n','-'*50)\n",
    "print('\\nproduct shape:',prod.shape,'\\n')\n",
    "print('\\n',prod.info())\n",
    "\n",
    "ing=pd.read_csv('O_ingredients.csv', index_col=0)\n",
    "print('-'*50,'\\nINGREDIENTS\\n','-'*50)\n",
    "print('\\ningredient shape:',ing.shape,'\\n')\n",
    "print('\\n',ing.info())"
   ]
  },
  {
   "cell_type": "code",
   "execution_count": null,
   "metadata": {},
   "outputs": [],
   "source": [
    "prod=pd.read_csv('M_PROD_SEL.csv',index_col=0)"
   ]
  },
  {
   "cell_type": "code",
   "execution_count": null,
   "metadata": {},
   "outputs": [],
   "source": [
    "print(ing.shape)\n",
    "ing.head()"
   ]
  },
  {
   "cell_type": "code",
   "execution_count": null,
   "metadata": {},
   "outputs": [],
   "source": [
    "#NUMBER OF UNIQUE PRODUCTS IN INGREDIENTS\n",
    "len(ing['_id'].unique())"
   ]
  },
  {
   "cell_type": "code",
   "execution_count": null,
   "metadata": {},
   "outputs": [],
   "source": [
    "# INGREDIENTS POUR LES SEULS PRODUITS DANS OPENFF ET NIELSEN (1100 dans prod)\n",
    "ing_EAN=ing['_id']\n",
    "ing_EAN_inPROD=ing_EAN in prod['_id']\n",
    "ing_EAN_inPROD.shape"
   ]
  },
  {
   "cell_type": "code",
   "execution_count": null,
   "metadata": {},
   "outputs": [],
   "source": [
    "ing_EAN_true= ing_EAN in prod['_id']\n",
    "ing.shape"
   ]
  },
  {
   "cell_type": "code",
   "execution_count": null,
   "metadata": {},
   "outputs": [],
   "source": [
    "#MOST FREQUENT INGREDIENTS (IN ENGLISH)\n",
    "#NUMBER OF PRODUCTS 1100 in prod /2500 i ing\n",
    "ing_u_en=ing[['denomination','_id']].groupby(['denomination']).count().sort_values('_id', ascending=False)\n",
    "print('type:',type(ing_u_en))\n",
    "print('number of different ingredients:', ing_u_en.shape)\n",
    "ing_u_en.head(50)"
   ]
  },
  {
   "cell_type": "code",
   "execution_count": null,
   "metadata": {},
   "outputs": [],
   "source": [
    "print(ing_u_en.loc['tomato',:])"
   ]
  },
  {
   "cell_type": "code",
   "execution_count": null,
   "metadata": {},
   "outputs": [],
   "source": [
    "\n",
    "sample=[1,5,10,20,30,40,50,75,100,150,200,250,500]\n",
    "print('number of ingredients for the ingredient in position')\n",
    "for i in sample:\n",
    "    print(i,':',ing_u_en.loc[[i]['_id']])"
   ]
  },
  {
   "cell_type": "code",
   "execution_count": null,
   "metadata": {},
   "outputs": [],
   "source": [
    "ing_u_en[0]"
   ]
  },
  {
   "cell_type": "code",
   "execution_count": null,
   "metadata": {},
   "outputs": [],
   "source": [
    "ing_u_en.plot.hist(bins=1000,xlim=(0,200))"
   ]
  },
  {
   "cell_type": "code",
   "execution_count": null,
   "metadata": {},
   "outputs": [],
   "source": [
    "\n",
    "#MOST FREQUENT INGREDIENTS\n",
    "#NUMBER OF PRODUCTS 1100 in prod /2500 i ing\n",
    "ing_u_enfr=ing[['denomination','text','_id']].groupby(['denomination','text']).count().sort_values('_id', ascending=False)\n",
    "ing_u_enfr.head(30)"
   ]
  },
  {
   "cell_type": "code",
   "execution_count": null,
   "metadata": {},
   "outputs": [],
   "source": []
  },
  {
   "cell_type": "code",
   "execution_count": null,
   "metadata": {},
   "outputs": [],
   "source": []
  },
  {
   "cell_type": "code",
   "execution_count": null,
   "metadata": {},
   "outputs": [],
   "source": []
  },
  {
   "cell_type": "code",
   "execution_count": null,
   "metadata": {},
   "outputs": [],
   "source": []
  },
  {
   "cell_type": "code",
   "execution_count": null,
   "metadata": {},
   "outputs": [],
   "source": []
  }
 ],
 "metadata": {
  "kernelspec": {
   "display_name": "Python 3",
   "language": "python",
   "name": "python3"
  },
  "language_info": {
   "codemirror_mode": {
    "name": "ipython",
    "version": 3
   },
   "file_extension": ".py",
   "mimetype": "text/x-python",
   "name": "python",
   "nbconvert_exporter": "python",
   "pygments_lexer": "ipython3",
   "version": "3.7.4"
  }
 },
 "nbformat": 4,
 "nbformat_minor": 4
}
