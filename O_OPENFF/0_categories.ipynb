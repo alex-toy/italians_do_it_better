{
 "cells": [
  {
   "cell_type": "code",
   "execution_count": 1,
   "metadata": {},
   "outputs": [
    {
     "name": "stdout",
     "output_type": "stream",
     "text": [
      "/Users/alexei/italians_do_it_better\r\n"
     ]
    }
   ],
   "source": [
    "!pwd"
   ]
  },
  {
   "cell_type": "code",
   "execution_count": 315,
   "metadata": {},
   "outputs": [
    {
     "name": "stdout",
     "output_type": "stream",
     "text": [
      "\u001b[34mN_NIELSEN\u001b[m\u001b[m                               O_produits_EAN13_categories.csv\r\n",
      "N_nielsen.ipynb                         README.md\r\n",
      "O_ingredients.csv                       categories.ipynb\r\n",
      "O_ingredients.ipynb                     ingredients.csv\r\n",
      "O_produits.csv                          mongo db - champs à sélectionner.docx\r\n",
      "O_produits.ipynb                        nielsen.csv\r\n",
      "O_produits_EAN13.csv\r\n"
     ]
    }
   ],
   "source": [
    "!ls"
   ]
  },
  {
   "cell_type": "code",
   "execution_count": 12,
   "metadata": {},
   "outputs": [],
   "source": [
    "import pandas as pd\n",
    "import numpy as np\n",
    "import re"
   ]
  },
  {
   "cell_type": "code",
   "execution_count": 345,
   "metadata": {},
   "outputs": [],
   "source": [
    "df = pd.read_csv('O_produits_EAN13.csv')"
   ]
  },
  {
   "cell_type": "code",
   "execution_count": 346,
   "metadata": {},
   "outputs": [],
   "source": [
    "df[\"CATEGORY\"] = \"AUTRE\"\n",
    "df[\"SUB_CATEGORY\"] = \"AUTRE\""
   ]
  },
  {
   "cell_type": "code",
   "execution_count": 347,
   "metadata": {},
   "outputs": [],
   "source": [
    "df['ingredients_text'].fillna(\" \", inplace=True)\n",
    "df['product_name'].fillna(\" \", inplace=True)"
   ]
  },
  {
   "cell_type": "code",
   "execution_count": null,
   "metadata": {},
   "outputs": [],
   "source": []
  },
  {
   "cell_type": "code",
   "execution_count": 282,
   "metadata": {},
   "outputs": [
    {
     "name": "stderr",
     "output_type": "stream",
     "text": [
      "/opt/anaconda3/lib/python3.7/site-packages/ipykernel_launcher.py:2: SettingWithCopyWarning: \n",
      "A value is trying to be set on a copy of a slice from a DataFrame\n",
      "\n",
      "See the caveats in the documentation: http://pandas.pydata.org/pandas-docs/stable/user_guide/indexing.html#returning-a-view-versus-a-copy\n",
      "  \n"
     ]
    }
   ],
   "source": [
    "contains_tomate = df['ingredients_text'].str.contains('Tomate', regex=True, flags=re.IGNORECASE)\n",
    "df.loc[:, 'CATEGORY'][contains_tomate] = 'TOMATES'"
   ]
  },
  {
   "cell_type": "code",
   "execution_count": null,
   "metadata": {},
   "outputs": [],
   "source": []
  },
  {
   "cell_type": "code",
   "execution_count": null,
   "metadata": {},
   "outputs": [],
   "source": []
  },
  {
   "cell_type": "code",
   "execution_count": 348,
   "metadata": {},
   "outputs": [
    {
     "name": "stderr",
     "output_type": "stream",
     "text": [
      "/opt/anaconda3/lib/python3.7/site-packages/ipykernel_launcher.py:2: SettingWithCopyWarning: \n",
      "A value is trying to be set on a copy of a slice from a DataFrame\n",
      "\n",
      "See the caveats in the documentation: http://pandas.pydata.org/pandas-docs/stable/user_guide/indexing.html#returning-a-view-versus-a-copy\n",
      "  \n",
      "/opt/anaconda3/lib/python3.7/site-packages/ipykernel_launcher.py:3: SettingWithCopyWarning: \n",
      "A value is trying to be set on a copy of a slice from a DataFrame\n",
      "\n",
      "See the caveats in the documentation: http://pandas.pydata.org/pandas-docs/stable/user_guide/indexing.html#returning-a-view-versus-a-copy\n",
      "  This is separate from the ipykernel package so we can avoid doing imports until\n"
     ]
    }
   ],
   "source": [
    "is_provencale = df['product_name'].str.contains('provençale|provence|provencale', regex=True, flags=re.IGNORECASE)\n",
    "df.loc[:, 'SUB_CATEGORY'][is_provencale] = 'PROVENCALE'\n",
    "df.loc[:, 'CATEGORY'][is_provencale] = 'TOMATES'"
   ]
  },
  {
   "cell_type": "code",
   "execution_count": null,
   "metadata": {},
   "outputs": [],
   "source": []
  },
  {
   "cell_type": "code",
   "execution_count": null,
   "metadata": {},
   "outputs": [],
   "source": []
  },
  {
   "cell_type": "code",
   "execution_count": 349,
   "metadata": {},
   "outputs": [
    {
     "name": "stderr",
     "output_type": "stream",
     "text": [
      "/opt/anaconda3/lib/python3.7/site-packages/ipykernel_launcher.py:2: SettingWithCopyWarning: \n",
      "A value is trying to be set on a copy of a slice from a DataFrame\n",
      "\n",
      "See the caveats in the documentation: http://pandas.pydata.org/pandas-docs/stable/user_guide/indexing.html#returning-a-view-versus-a-copy\n",
      "  \n",
      "/opt/anaconda3/lib/python3.7/site-packages/ipykernel_launcher.py:3: SettingWithCopyWarning: \n",
      "A value is trying to be set on a copy of a slice from a DataFrame\n",
      "\n",
      "See the caveats in the documentation: http://pandas.pydata.org/pandas-docs/stable/user_guide/indexing.html#returning-a-view-versus-a-copy\n",
      "  This is separate from the ipykernel package so we can avoid doing imports until\n"
     ]
    }
   ],
   "source": [
    "is_puttanesca = df['product_name'].str.contains('Puttanesca', regex=True, flags=re.IGNORECASE)\n",
    "df.loc[:, 'SUB_CATEGORY'][is_puttanesca] = 'PUTTANESCA'\n",
    "df.loc[:, 'CATEGORY'][is_puttanesca] = 'TOMATES'"
   ]
  },
  {
   "cell_type": "code",
   "execution_count": null,
   "metadata": {},
   "outputs": [],
   "source": []
  },
  {
   "cell_type": "code",
   "execution_count": 24,
   "metadata": {},
   "outputs": [],
   "source": []
  },
  {
   "cell_type": "code",
   "execution_count": 350,
   "metadata": {},
   "outputs": [
    {
     "name": "stderr",
     "output_type": "stream",
     "text": [
      "/opt/anaconda3/lib/python3.7/site-packages/ipykernel_launcher.py:2: SettingWithCopyWarning: \n",
      "A value is trying to be set on a copy of a slice from a DataFrame\n",
      "\n",
      "See the caveats in the documentation: http://pandas.pydata.org/pandas-docs/stable/user_guide/indexing.html#returning-a-view-versus-a-copy\n",
      "  \n",
      "/opt/anaconda3/lib/python3.7/site-packages/ipykernel_launcher.py:3: SettingWithCopyWarning: \n",
      "A value is trying to be set on a copy of a slice from a DataFrame\n",
      "\n",
      "See the caveats in the documentation: http://pandas.pydata.org/pandas-docs/stable/user_guide/indexing.html#returning-a-view-versus-a-copy\n",
      "  This is separate from the ipykernel package so we can avoid doing imports until\n"
     ]
    }
   ],
   "source": [
    "is_arrabbiata = df['product_name'].str.contains('arrabbiata|arrabiata', regex=True, flags=re.IGNORECASE)\n",
    "df.loc[:, 'SUB_CATEGORY'][is_arrabbiata] = 'ARRABBIATA'\n",
    "df.loc[:, 'CATEGORY'][is_arrabbiata] = 'TOMATES'"
   ]
  },
  {
   "cell_type": "code",
   "execution_count": null,
   "metadata": {},
   "outputs": [],
   "source": []
  },
  {
   "cell_type": "code",
   "execution_count": null,
   "metadata": {},
   "outputs": [],
   "source": []
  },
  {
   "cell_type": "code",
   "execution_count": 351,
   "metadata": {},
   "outputs": [
    {
     "name": "stderr",
     "output_type": "stream",
     "text": [
      "/opt/anaconda3/lib/python3.7/site-packages/ipykernel_launcher.py:2: SettingWithCopyWarning: \n",
      "A value is trying to be set on a copy of a slice from a DataFrame\n",
      "\n",
      "See the caveats in the documentation: http://pandas.pydata.org/pandas-docs/stable/user_guide/indexing.html#returning-a-view-versus-a-copy\n",
      "  \n",
      "/opt/anaconda3/lib/python3.7/site-packages/ipykernel_launcher.py:3: SettingWithCopyWarning: \n",
      "A value is trying to be set on a copy of a slice from a DataFrame\n",
      "\n",
      "See the caveats in the documentation: http://pandas.pydata.org/pandas-docs/stable/user_guide/indexing.html#returning-a-view-versus-a-copy\n",
      "  This is separate from the ipykernel package so we can avoid doing imports until\n"
     ]
    }
   ],
   "source": [
    "is_pomodoro = df['product_name'].str.contains('tomates?', regex=True, flags=re.IGNORECASE) & df['product_name'].str.contains('basilic', regex=True, flags=re.IGNORECASE) \n",
    "df.loc[:, 'SUB_CATEGORY'][is_pomodoro] = 'POMODORO'\n",
    "df.loc[:, 'CATEGORY'][is_pomodoro] = 'TOMATES'"
   ]
  },
  {
   "cell_type": "code",
   "execution_count": null,
   "metadata": {},
   "outputs": [],
   "source": []
  },
  {
   "cell_type": "code",
   "execution_count": null,
   "metadata": {},
   "outputs": [],
   "source": []
  },
  {
   "cell_type": "code",
   "execution_count": 352,
   "metadata": {},
   "outputs": [
    {
     "name": "stderr",
     "output_type": "stream",
     "text": [
      "/opt/anaconda3/lib/python3.7/site-packages/ipykernel_launcher.py:2: SettingWithCopyWarning: \n",
      "A value is trying to be set on a copy of a slice from a DataFrame\n",
      "\n",
      "See the caveats in the documentation: http://pandas.pydata.org/pandas-docs/stable/user_guide/indexing.html#returning-a-view-versus-a-copy\n",
      "  \n",
      "/opt/anaconda3/lib/python3.7/site-packages/ipykernel_launcher.py:3: SettingWithCopyWarning: \n",
      "A value is trying to be set on a copy of a slice from a DataFrame\n",
      "\n",
      "See the caveats in the documentation: http://pandas.pydata.org/pandas-docs/stable/user_guide/indexing.html#returning-a-view-versus-a-copy\n",
      "  This is separate from the ipykernel package so we can avoid doing imports until\n"
     ]
    }
   ],
   "source": [
    "is_norma = df['product_name'].str.contains('tomates?', regex=True, flags=re.IGNORECASE) & df['product_name'].str.contains('aubergine', regex=True, flags=re.IGNORECASE) \n",
    "df.loc[:, 'SUB_CATEGORY'][is_norma] = 'NORMA'\n",
    "df.loc[:, 'CATEGORY'][is_norma] = 'TOMATES'"
   ]
  },
  {
   "cell_type": "code",
   "execution_count": null,
   "metadata": {},
   "outputs": [],
   "source": []
  },
  {
   "cell_type": "code",
   "execution_count": null,
   "metadata": {},
   "outputs": [],
   "source": []
  },
  {
   "cell_type": "code",
   "execution_count": 353,
   "metadata": {},
   "outputs": [
    {
     "name": "stderr",
     "output_type": "stream",
     "text": [
      "/opt/anaconda3/lib/python3.7/site-packages/ipykernel_launcher.py:2: SettingWithCopyWarning: \n",
      "A value is trying to be set on a copy of a slice from a DataFrame\n",
      "\n",
      "See the caveats in the documentation: http://pandas.pydata.org/pandas-docs/stable/user_guide/indexing.html#returning-a-view-versus-a-copy\n",
      "  \n",
      "/opt/anaconda3/lib/python3.7/site-packages/ipykernel_launcher.py:3: SettingWithCopyWarning: \n",
      "A value is trying to be set on a copy of a slice from a DataFrame\n",
      "\n",
      "See the caveats in the documentation: http://pandas.pydata.org/pandas-docs/stable/user_guide/indexing.html#returning-a-view-versus-a-copy\n",
      "  This is separate from the ipykernel package so we can avoid doing imports until\n"
     ]
    }
   ],
   "source": [
    "is_bolognese = df['product_name'].str.contains('bolognese|bolognaise', regex=True, flags=re.IGNORECASE)\n",
    "df.loc[:, 'SUB_CATEGORY'][is_bolognese] = 'BOLOGNESE'\n",
    "df.loc[:, 'CATEGORY'][is_bolognese] = 'VIANDE_POISSON'"
   ]
  },
  {
   "cell_type": "code",
   "execution_count": null,
   "metadata": {},
   "outputs": [],
   "source": []
  },
  {
   "cell_type": "code",
   "execution_count": null,
   "metadata": {},
   "outputs": [],
   "source": []
  },
  {
   "cell_type": "code",
   "execution_count": 354,
   "metadata": {},
   "outputs": [
    {
     "name": "stderr",
     "output_type": "stream",
     "text": [
      "/opt/anaconda3/lib/python3.7/site-packages/ipykernel_launcher.py:2: SettingWithCopyWarning: \n",
      "A value is trying to be set on a copy of a slice from a DataFrame\n",
      "\n",
      "See the caveats in the documentation: http://pandas.pydata.org/pandas-docs/stable/user_guide/indexing.html#returning-a-view-versus-a-copy\n",
      "  \n",
      "/opt/anaconda3/lib/python3.7/site-packages/ipykernel_launcher.py:3: SettingWithCopyWarning: \n",
      "A value is trying to be set on a copy of a slice from a DataFrame\n",
      "\n",
      "See the caveats in the documentation: http://pandas.pydata.org/pandas-docs/stable/user_guide/indexing.html#returning-a-view-versus-a-copy\n",
      "  This is separate from the ipykernel package so we can avoid doing imports until\n"
     ]
    }
   ],
   "source": [
    "is_chorizo = df['product_name'].str.contains('chorizo', regex=True, flags=re.IGNORECASE)\n",
    "df.loc[:, 'SUB_CATEGORY'][is_chorizo] = 'CHORIZO'\n",
    "df.loc[:, 'CATEGORY'][is_chorizo] = 'VIANDE_POISSON'"
   ]
  },
  {
   "cell_type": "code",
   "execution_count": null,
   "metadata": {},
   "outputs": [],
   "source": []
  },
  {
   "cell_type": "code",
   "execution_count": null,
   "metadata": {},
   "outputs": [],
   "source": []
  },
  {
   "cell_type": "code",
   "execution_count": 355,
   "metadata": {},
   "outputs": [
    {
     "name": "stderr",
     "output_type": "stream",
     "text": [
      "/opt/anaconda3/lib/python3.7/site-packages/ipykernel_launcher.py:2: SettingWithCopyWarning: \n",
      "A value is trying to be set on a copy of a slice from a DataFrame\n",
      "\n",
      "See the caveats in the documentation: http://pandas.pydata.org/pandas-docs/stable/user_guide/indexing.html#returning-a-view-versus-a-copy\n",
      "  \n",
      "/opt/anaconda3/lib/python3.7/site-packages/ipykernel_launcher.py:3: SettingWithCopyWarning: \n",
      "A value is trying to be set on a copy of a slice from a DataFrame\n",
      "\n",
      "See the caveats in the documentation: http://pandas.pydata.org/pandas-docs/stable/user_guide/indexing.html#returning-a-view-versus-a-copy\n",
      "  This is separate from the ipykernel package so we can avoid doing imports until\n"
     ]
    }
   ],
   "source": [
    "is_poulet = df['product_name'].str.contains('poulet', regex=True, flags=re.IGNORECASE)\n",
    "df.loc[:, 'SUB_CATEGORY'][is_poulet] = 'POULET'\n",
    "df.loc[:, 'CATEGORY'][is_poulet] = 'VIANDE_POISSON'"
   ]
  },
  {
   "cell_type": "code",
   "execution_count": null,
   "metadata": {},
   "outputs": [],
   "source": []
  },
  {
   "cell_type": "code",
   "execution_count": null,
   "metadata": {},
   "outputs": [],
   "source": []
  },
  {
   "cell_type": "code",
   "execution_count": 356,
   "metadata": {},
   "outputs": [
    {
     "name": "stderr",
     "output_type": "stream",
     "text": [
      "/opt/anaconda3/lib/python3.7/site-packages/ipykernel_launcher.py:2: SettingWithCopyWarning: \n",
      "A value is trying to be set on a copy of a slice from a DataFrame\n",
      "\n",
      "See the caveats in the documentation: http://pandas.pydata.org/pandas-docs/stable/user_guide/indexing.html#returning-a-view-versus-a-copy\n",
      "  \n",
      "/opt/anaconda3/lib/python3.7/site-packages/ipykernel_launcher.py:3: SettingWithCopyWarning: \n",
      "A value is trying to be set on a copy of a slice from a DataFrame\n",
      "\n",
      "See the caveats in the documentation: http://pandas.pydata.org/pandas-docs/stable/user_guide/indexing.html#returning-a-view-versus-a-copy\n",
      "  This is separate from the ipykernel package so we can avoid doing imports until\n"
     ]
    }
   ],
   "source": [
    "is_poisson = df['product_name'].str.contains('poisson', regex=True, flags=re.IGNORECASE)\n",
    "df.loc[:, 'SUB_CATEGORY'][is_poisson] = 'POISSON'\n",
    "df.loc[:, 'CATEGORY'][is_poisson] = 'VIANDE_POISSON'"
   ]
  },
  {
   "cell_type": "code",
   "execution_count": null,
   "metadata": {},
   "outputs": [],
   "source": []
  },
  {
   "cell_type": "code",
   "execution_count": null,
   "metadata": {},
   "outputs": [],
   "source": []
  },
  {
   "cell_type": "code",
   "execution_count": 357,
   "metadata": {},
   "outputs": [
    {
     "name": "stderr",
     "output_type": "stream",
     "text": [
      "/opt/anaconda3/lib/python3.7/site-packages/ipykernel_launcher.py:2: SettingWithCopyWarning: \n",
      "A value is trying to be set on a copy of a slice from a DataFrame\n",
      "\n",
      "See the caveats in the documentation: http://pandas.pydata.org/pandas-docs/stable/user_guide/indexing.html#returning-a-view-versus-a-copy\n",
      "  \n",
      "/opt/anaconda3/lib/python3.7/site-packages/ipykernel_launcher.py:3: SettingWithCopyWarning: \n",
      "A value is trying to be set on a copy of a slice from a DataFrame\n",
      "\n",
      "See the caveats in the documentation: http://pandas.pydata.org/pandas-docs/stable/user_guide/indexing.html#returning-a-view-versus-a-copy\n",
      "  This is separate from the ipykernel package so we can avoid doing imports until\n"
     ]
    }
   ],
   "source": [
    "is_genovese = df['product_name'].str.contains('genovese', regex=True, flags=re.IGNORECASE)\n",
    "df.loc[:, 'SUB_CATEGORY'][is_genovese] = 'GENOVESE'\n",
    "df.loc[:, 'CATEGORY'][is_genovese] = 'PESTI'"
   ]
  },
  {
   "cell_type": "code",
   "execution_count": null,
   "metadata": {},
   "outputs": [],
   "source": []
  },
  {
   "cell_type": "code",
   "execution_count": null,
   "metadata": {},
   "outputs": [],
   "source": []
  },
  {
   "cell_type": "code",
   "execution_count": 370,
   "metadata": {},
   "outputs": [
    {
     "name": "stderr",
     "output_type": "stream",
     "text": [
      "/opt/anaconda3/lib/python3.7/site-packages/ipykernel_launcher.py:2: SettingWithCopyWarning: \n",
      "A value is trying to be set on a copy of a slice from a DataFrame\n",
      "\n",
      "See the caveats in the documentation: http://pandas.pydata.org/pandas-docs/stable/user_guide/indexing.html#returning-a-view-versus-a-copy\n",
      "  \n",
      "/opt/anaconda3/lib/python3.7/site-packages/ipykernel_launcher.py:3: SettingWithCopyWarning: \n",
      "A value is trying to be set on a copy of a slice from a DataFrame\n",
      "\n",
      "See the caveats in the documentation: http://pandas.pydata.org/pandas-docs/stable/user_guide/indexing.html#returning-a-view-versus-a-copy\n",
      "  This is separate from the ipykernel package so we can avoid doing imports until\n"
     ]
    }
   ],
   "source": [
    "is_pesto_rosso = df['product_name'].str.contains('pesto rosso|pesto rouge', regex=True, flags=re.IGNORECASE)\n",
    "df.loc[:, 'SUB_CATEGORY'][is_pesto_rosso] = 'PESTO_ROSSO'\n",
    "df.loc[:, 'CATEGORY'][is_pesto_rosso] = 'PESTI'"
   ]
  },
  {
   "cell_type": "code",
   "execution_count": null,
   "metadata": {},
   "outputs": [],
   "source": []
  },
  {
   "cell_type": "code",
   "execution_count": null,
   "metadata": {},
   "outputs": [],
   "source": []
  },
  {
   "cell_type": "code",
   "execution_count": 359,
   "metadata": {},
   "outputs": [
    {
     "name": "stderr",
     "output_type": "stream",
     "text": [
      "/opt/anaconda3/lib/python3.7/site-packages/ipykernel_launcher.py:2: SettingWithCopyWarning: \n",
      "A value is trying to be set on a copy of a slice from a DataFrame\n",
      "\n",
      "See the caveats in the documentation: http://pandas.pydata.org/pandas-docs/stable/user_guide/indexing.html#returning-a-view-versus-a-copy\n",
      "  \n",
      "/opt/anaconda3/lib/python3.7/site-packages/ipykernel_launcher.py:3: SettingWithCopyWarning: \n",
      "A value is trying to be set on a copy of a slice from a DataFrame\n",
      "\n",
      "See the caveats in the documentation: http://pandas.pydata.org/pandas-docs/stable/user_guide/indexing.html#returning-a-view-versus-a-copy\n",
      "  This is separate from the ipykernel package so we can avoid doing imports until\n"
     ]
    }
   ],
   "source": [
    "is_pesto_calabrese = df['product_name'].str.contains('pesto calabrese', regex=True, flags=re.IGNORECASE)\n",
    "df.loc[:, 'SUB_CATEGORY'][is_pesto_calabrese] = 'PESTO_CALABRESE'\n",
    "df.loc[:, 'CATEGORY'][is_pesto_calabrese] = 'PESTI'"
   ]
  },
  {
   "cell_type": "code",
   "execution_count": null,
   "metadata": {},
   "outputs": [],
   "source": []
  },
  {
   "cell_type": "code",
   "execution_count": null,
   "metadata": {},
   "outputs": [],
   "source": []
  },
  {
   "cell_type": "code",
   "execution_count": 360,
   "metadata": {},
   "outputs": [
    {
     "name": "stderr",
     "output_type": "stream",
     "text": [
      "/opt/anaconda3/lib/python3.7/site-packages/ipykernel_launcher.py:2: SettingWithCopyWarning: \n",
      "A value is trying to be set on a copy of a slice from a DataFrame\n",
      "\n",
      "See the caveats in the documentation: http://pandas.pydata.org/pandas-docs/stable/user_guide/indexing.html#returning-a-view-versus-a-copy\n",
      "  \n",
      "/opt/anaconda3/lib/python3.7/site-packages/ipykernel_launcher.py:3: SettingWithCopyWarning: \n",
      "A value is trying to be set on a copy of a slice from a DataFrame\n",
      "\n",
      "See the caveats in the documentation: http://pandas.pydata.org/pandas-docs/stable/user_guide/indexing.html#returning-a-view-versus-a-copy\n",
      "  This is separate from the ipykernel package so we can avoid doing imports until\n"
     ]
    }
   ],
   "source": [
    "is_pesto_citron = df['product_name'].str.contains('pesto citron', regex=True, flags=re.IGNORECASE)\n",
    "df.loc[:, 'SUB_CATEGORY'][is_pesto_citron] = 'PESTO_CITRON'\n",
    "df.loc[:, 'CATEGORY'][is_pesto_citron] = 'PESTI'"
   ]
  },
  {
   "cell_type": "code",
   "execution_count": null,
   "metadata": {},
   "outputs": [],
   "source": []
  },
  {
   "cell_type": "code",
   "execution_count": null,
   "metadata": {},
   "outputs": [],
   "source": []
  },
  {
   "cell_type": "code",
   "execution_count": 361,
   "metadata": {},
   "outputs": [
    {
     "name": "stderr",
     "output_type": "stream",
     "text": [
      "/opt/anaconda3/lib/python3.7/site-packages/ipykernel_launcher.py:2: SettingWithCopyWarning: \n",
      "A value is trying to be set on a copy of a slice from a DataFrame\n",
      "\n",
      "See the caveats in the documentation: http://pandas.pydata.org/pandas-docs/stable/user_guide/indexing.html#returning-a-view-versus-a-copy\n",
      "  \n",
      "/opt/anaconda3/lib/python3.7/site-packages/ipykernel_launcher.py:3: SettingWithCopyWarning: \n",
      "A value is trying to be set on a copy of a slice from a DataFrame\n",
      "\n",
      "See the caveats in the documentation: http://pandas.pydata.org/pandas-docs/stable/user_guide/indexing.html#returning-a-view-versus-a-copy\n",
      "  This is separate from the ipykernel package so we can avoid doing imports until\n"
     ]
    }
   ],
   "source": [
    "is_carbonara = df['product_name'].str.contains('carbonara', regex=True, flags=re.IGNORECASE)\n",
    "df.loc[:, 'SUB_CATEGORY'][is_carbonara] = 'CARBONARA'\n",
    "df.loc[:, 'CATEGORY'][is_carbonara] = 'FROMAGE'"
   ]
  },
  {
   "cell_type": "code",
   "execution_count": null,
   "metadata": {},
   "outputs": [],
   "source": []
  },
  {
   "cell_type": "code",
   "execution_count": null,
   "metadata": {},
   "outputs": [],
   "source": [
    "#probleme!!! ecrase sauces pesto!!!"
   ]
  },
  {
   "cell_type": "code",
   "execution_count": 362,
   "metadata": {},
   "outputs": [
    {
     "name": "stderr",
     "output_type": "stream",
     "text": [
      "/opt/anaconda3/lib/python3.7/site-packages/ipykernel_launcher.py:2: SettingWithCopyWarning: \n",
      "A value is trying to be set on a copy of a slice from a DataFrame\n",
      "\n",
      "See the caveats in the documentation: http://pandas.pydata.org/pandas-docs/stable/user_guide/indexing.html#returning-a-view-versus-a-copy\n",
      "  \n",
      "/opt/anaconda3/lib/python3.7/site-packages/ipykernel_launcher.py:3: SettingWithCopyWarning: \n",
      "A value is trying to be set on a copy of a slice from a DataFrame\n",
      "\n",
      "See the caveats in the documentation: http://pandas.pydata.org/pandas-docs/stable/user_guide/indexing.html#returning-a-view-versus-a-copy\n",
      "  This is separate from the ipykernel package so we can avoid doing imports until\n"
     ]
    }
   ],
   "source": [
    "is_fromages = df['product_name'].str.contains('fromages|fromage', regex=True, flags=re.IGNORECASE)\n",
    "df.loc[:, 'SUB_CATEGORY'][is_fromages] = 'FROMAGES'\n",
    "df.loc[:, 'CATEGORY'][is_fromages] = 'FROMAGE'"
   ]
  },
  {
   "cell_type": "code",
   "execution_count": null,
   "metadata": {},
   "outputs": [],
   "source": []
  },
  {
   "cell_type": "code",
   "execution_count": null,
   "metadata": {},
   "outputs": [],
   "source": []
  },
  {
   "cell_type": "code",
   "execution_count": 364,
   "metadata": {},
   "outputs": [
    {
     "data": {
      "text/plain": [
       "63                                       Sauce 4 Fromages\n",
       "99                   Sauce pour Risotto Maison 3 Fromages\n",
       "102                                     Sauces 3 fromages\n",
       "432              Sauce poivrons grilles & fromage italien\n",
       "692                     Sauvé potiron et fromage parmesan\n",
       "806     Sauce tomate aux Sauce Tomate Aux Fromages Ita...\n",
       "811      Pietro Castelli Sauce Pasta Poivron Fromage 190G\n",
       "983                                    Sauce aux Fromages\n",
       "1030                  Sauce bolognaise et fromages Italie\n",
       "1056                       Sauce poivrons fromage italien\n",
       "1082      Sacrément bon poivron grillé et fromage italien\n",
       "Name: product_name, dtype: object"
      ]
     },
     "execution_count": 364,
     "metadata": {},
     "output_type": "execute_result"
    }
   ],
   "source": [
    "df['product_name'][is_fromages]"
   ]
  },
  {
   "cell_type": "code",
   "execution_count": 374,
   "metadata": {},
   "outputs": [
    {
     "data": {
      "text/html": [
       "<div>\n",
       "<style scoped>\n",
       "    .dataframe tbody tr th:only-of-type {\n",
       "        vertical-align: middle;\n",
       "    }\n",
       "\n",
       "    .dataframe tbody tr th {\n",
       "        vertical-align: top;\n",
       "    }\n",
       "\n",
       "    .dataframe thead th {\n",
       "        text-align: right;\n",
       "    }\n",
       "</style>\n",
       "<table border=\"1\" class=\"dataframe\">\n",
       "  <thead>\n",
       "    <tr style=\"text-align: right;\">\n",
       "      <th></th>\n",
       "      <th>Unnamed: 0</th>\n",
       "      <th>_id</th>\n",
       "      <th>categories</th>\n",
       "      <th>ingredients</th>\n",
       "      <th>nutriments</th>\n",
       "      <th>product_name</th>\n",
       "      <th>manufacturing_places</th>\n",
       "      <th>category_properties</th>\n",
       "      <th>ingredients_text</th>\n",
       "      <th>product_name_fr</th>\n",
       "      <th>...</th>\n",
       "      <th>sugars_100g</th>\n",
       "      <th>fruits_vegetables_nuts_estimate_from_ingredients_100g</th>\n",
       "      <th>proteins_100g</th>\n",
       "      <th>sodium_100g</th>\n",
       "      <th>salt_100g</th>\n",
       "      <th>nutrition_score_fr_100g</th>\n",
       "      <th>fiber_100g</th>\n",
       "      <th>nova_group_100g</th>\n",
       "      <th>CATEGORY</th>\n",
       "      <th>SUB_CATEGORY</th>\n",
       "    </tr>\n",
       "  </thead>\n",
       "  <tbody>\n",
       "    <tr>\n",
       "      <td>140</td>\n",
       "      <td>140</td>\n",
       "      <td>3038359004148</td>\n",
       "      <td>Epicerie, Sauces, Sauces tomate, Sauces pour l...</td>\n",
       "      <td>['Pulpe de tomates avec morceaux et concentré ...</td>\n",
       "      <td>{'energy-kj': 372, 'sugars_unit': 'g', 'fiber_...</td>\n",
       "      <td>Lasagnes Facile !</td>\n",
       "      <td>NaN</td>\n",
       "      <td>{}</td>\n",
       "      <td>Pulpe de tomates avec morceaux et concentré de...</td>\n",
       "      <td>Lasagnes Facile !</td>\n",
       "      <td>...</td>\n",
       "      <td>6.5</td>\n",
       "      <td>62.00</td>\n",
       "      <td>2.3</td>\n",
       "      <td>0.480</td>\n",
       "      <td>1.200</td>\n",
       "      <td>4.0</td>\n",
       "      <td>1.7</td>\n",
       "      <td>4.0</td>\n",
       "      <td>AUTRE</td>\n",
       "      <td>AUTRE</td>\n",
       "    </tr>\n",
       "    <tr>\n",
       "      <td>141</td>\n",
       "      <td>141</td>\n",
       "      <td>3038359004155</td>\n",
       "      <td>Epicerie, Produits à la viande, Sauces, Sauces...</td>\n",
       "      <td>['Pulpe de tomates', 'concentré de tomates', '...</td>\n",
       "      <td>{'energy_unit': 'kcal', 'carbon-footprint-from...</td>\n",
       "      <td>Bolognaise classique</td>\n",
       "      <td>NaN</td>\n",
       "      <td>{'ciqual_food_name:fr': 'Sauce tomate à la via...</td>\n",
       "      <td>Pulpe de tomates et concentré de tomates (56 %...</td>\n",
       "      <td>Bolognaise classique</td>\n",
       "      <td>...</td>\n",
       "      <td>5.6</td>\n",
       "      <td>121.00</td>\n",
       "      <td>4.9</td>\n",
       "      <td>0.440</td>\n",
       "      <td>1.100</td>\n",
       "      <td>-4.0</td>\n",
       "      <td>1.5</td>\n",
       "      <td>4.0</td>\n",
       "      <td>VIANDE_POISSON</td>\n",
       "      <td>BOLOGNESE</td>\n",
       "    </tr>\n",
       "    <tr>\n",
       "      <td>142</td>\n",
       "      <td>142</td>\n",
       "      <td>3038359004179</td>\n",
       "      <td>Epicerie, Sauces, Sauces tomate</td>\n",
       "      <td>['Pulpe de tomates', 'concentré de tomates', '...</td>\n",
       "      <td>{'sugars_unit': '', 'nova-group': 4, 'salt_uni...</td>\n",
       "      <td>Sauce tomate</td>\n",
       "      <td>NaN</td>\n",
       "      <td>{}</td>\n",
       "      <td>Pulpe de tomates et concentré de tomates (5506...</td>\n",
       "      <td>Sauce tomate</td>\n",
       "      <td>...</td>\n",
       "      <td>5.1</td>\n",
       "      <td>35.00</td>\n",
       "      <td>4.6</td>\n",
       "      <td>0.480</td>\n",
       "      <td>1.200</td>\n",
       "      <td>7.0</td>\n",
       "      <td>NaN</td>\n",
       "      <td>4.0</td>\n",
       "      <td>AUTRE</td>\n",
       "      <td>AUTRE</td>\n",
       "    </tr>\n",
       "    <tr>\n",
       "      <td>143</td>\n",
       "      <td>143</td>\n",
       "      <td>3038359004186</td>\n",
       "      <td>Epicerie, Sauces, Sauces tomate</td>\n",
       "      <td>['Eau', 'concentré de tomates', 'sucre', 'amid...</td>\n",
       "      <td>{'carbon-footprint-from-known-ingredients_100g...</td>\n",
       "      <td>Sauce Tomate Cuisinée Ail &amp; Oignons</td>\n",
       "      <td>NaN</td>\n",
       "      <td>{}</td>\n",
       "      <td>Eau, concentré de tomates 26 %, sucre, amidon ...</td>\n",
       "      <td>Sauce Tomate Cuisinée Ail &amp; Oignons</td>\n",
       "      <td>...</td>\n",
       "      <td>6.3</td>\n",
       "      <td>26.39</td>\n",
       "      <td>1.4</td>\n",
       "      <td>0.520</td>\n",
       "      <td>1.300</td>\n",
       "      <td>5.0</td>\n",
       "      <td>1.8</td>\n",
       "      <td>4.0</td>\n",
       "      <td>AUTRE</td>\n",
       "      <td>AUTRE</td>\n",
       "    </tr>\n",
       "    <tr>\n",
       "      <td>144</td>\n",
       "      <td>144</td>\n",
       "      <td>3038359004193</td>\n",
       "      <td>NaN</td>\n",
       "      <td>[]</td>\n",
       "      <td>{'energy-kcal_100g': 67, 'fiber_value': 2.5, '...</td>\n",
       "      <td>Sauce poulet basquaise Facile le pot de 425 g</td>\n",
       "      <td>NaN</td>\n",
       "      <td>{}</td>\n",
       "      <td></td>\n",
       "      <td>Sauce poulet basquaise Facile le pot de 425 g</td>\n",
       "      <td>...</td>\n",
       "      <td>6.5</td>\n",
       "      <td>NaN</td>\n",
       "      <td>1.4</td>\n",
       "      <td>0.470</td>\n",
       "      <td>1.175</td>\n",
       "      <td>NaN</td>\n",
       "      <td>2.5</td>\n",
       "      <td>NaN</td>\n",
       "      <td>VIANDE_POISSON</td>\n",
       "      <td>POULET</td>\n",
       "    </tr>\n",
       "    <tr>\n",
       "      <td>145</td>\n",
       "      <td>145</td>\n",
       "      <td>3038359004209</td>\n",
       "      <td>Epicerie, Sauces, Sauce à la crème, Sauces aux...</td>\n",
       "      <td>['Eau', 'crème', 'champignons de Paris', 'amid...</td>\n",
       "      <td>{'fruits-vegetables-nuts_100g': 0, 'nova-group...</td>\n",
       "      <td>Sauce pour Poulet Crème Champignons Facile</td>\n",
       "      <td>NaN</td>\n",
       "      <td>{'ciqual_food_name:fr': 'Sauce aux champignons...</td>\n",
       "      <td>Eau, crème (LAIT) 26%, champignons de Paris 9%...</td>\n",
       "      <td>Sauce pour Poulet Crème Champignons Facile</td>\n",
       "      <td>...</td>\n",
       "      <td>1.4</td>\n",
       "      <td>0.00</td>\n",
       "      <td>1.4</td>\n",
       "      <td>0.352</td>\n",
       "      <td>0.880</td>\n",
       "      <td>10.0</td>\n",
       "      <td>0.9</td>\n",
       "      <td>4.0</td>\n",
       "      <td>VIANDE_POISSON</td>\n",
       "      <td>POULET</td>\n",
       "    </tr>\n",
       "    <tr>\n",
       "      <td>146</td>\n",
       "      <td>146</td>\n",
       "      <td>3038359004544</td>\n",
       "      <td>Epicerie, Sauces, Sauces tomate, Sauces pour p...</td>\n",
       "      <td>['Concentré de tomates', 'eau', 'légumes', 'hu...</td>\n",
       "      <td>{'sodium': 1.16, 'salt': 2.9, 'energy_100g': 5...</td>\n",
       "      <td>Sauce tomate cuisinée aux petits légumes</td>\n",
       "      <td>NaN</td>\n",
       "      <td>{}</td>\n",
       "      <td>Concentré de tomates 38 %, eau, légumes 10 % (...</td>\n",
       "      <td>Sauce tomate cuisinée aux petits légumes</td>\n",
       "      <td>...</td>\n",
       "      <td>9.1</td>\n",
       "      <td>50.00</td>\n",
       "      <td>2.9</td>\n",
       "      <td>1.160</td>\n",
       "      <td>2.900</td>\n",
       "      <td>11.0</td>\n",
       "      <td>1.7</td>\n",
       "      <td>4.0</td>\n",
       "      <td>AUTRE</td>\n",
       "      <td>AUTRE</td>\n",
       "    </tr>\n",
       "    <tr>\n",
       "      <td>147</td>\n",
       "      <td>147</td>\n",
       "      <td>3038359004551</td>\n",
       "      <td>NaN</td>\n",
       "      <td>NaN</td>\n",
       "      <td>{}</td>\n",
       "      <td>Sauce tomate</td>\n",
       "      <td>NaN</td>\n",
       "      <td>NaN</td>\n",
       "      <td></td>\n",
       "      <td>Sauce tomate</td>\n",
       "      <td>...</td>\n",
       "      <td>NaN</td>\n",
       "      <td>NaN</td>\n",
       "      <td>NaN</td>\n",
       "      <td>NaN</td>\n",
       "      <td>NaN</td>\n",
       "      <td>NaN</td>\n",
       "      <td>NaN</td>\n",
       "      <td>NaN</td>\n",
       "      <td>AUTRE</td>\n",
       "      <td>AUTRE</td>\n",
       "    </tr>\n",
       "    <tr>\n",
       "      <td>148</td>\n",
       "      <td>148</td>\n",
       "      <td>3038359004575</td>\n",
       "      <td>Epicerie, Produits à la viande, Sauces, Sauces...</td>\n",
       "      <td>['Pulpe de tomates', 'concentré de tomates', '...</td>\n",
       "      <td>{'sodium_unit': 'g', 'carbohydrates_unit': '',...</td>\n",
       "      <td>Bolognaise</td>\n",
       "      <td>NaN</td>\n",
       "      <td>{'ciqual_food_name:fr': 'Sauce tomate à la via...</td>\n",
       "      <td>Pulpe de tomates et concentré de tomates (55%)...</td>\n",
       "      <td>Bolognaise</td>\n",
       "      <td>...</td>\n",
       "      <td>5.1</td>\n",
       "      <td>110.00</td>\n",
       "      <td>4.6</td>\n",
       "      <td>0.464</td>\n",
       "      <td>1.160</td>\n",
       "      <td>-2.0</td>\n",
       "      <td>1.0</td>\n",
       "      <td>4.0</td>\n",
       "      <td>VIANDE_POISSON</td>\n",
       "      <td>BOLOGNESE</td>\n",
       "    </tr>\n",
       "    <tr>\n",
       "      <td>149</td>\n",
       "      <td>149</td>\n",
       "      <td>3038359004582</td>\n",
       "      <td>Epicerie, Sauces, Sauces tomate</td>\n",
       "      <td>['Pulpe de tomates', 'concentré de tomates', '...</td>\n",
       "      <td>{'nutrition-score-fr': -4, 'carbon-footprint-f...</td>\n",
       "      <td>Bolognaise Classique</td>\n",
       "      <td>Espagne</td>\n",
       "      <td>{}</td>\n",
       "      <td>Pulpe de tomates et concentré de tomates (55 %...</td>\n",
       "      <td>Bolognaise Classique</td>\n",
       "      <td>...</td>\n",
       "      <td>5.6</td>\n",
       "      <td>119.00</td>\n",
       "      <td>4.9</td>\n",
       "      <td>0.440</td>\n",
       "      <td>1.100</td>\n",
       "      <td>-4.0</td>\n",
       "      <td>1.5</td>\n",
       "      <td>4.0</td>\n",
       "      <td>VIANDE_POISSON</td>\n",
       "      <td>BOLOGNESE</td>\n",
       "    </tr>\n",
       "  </tbody>\n",
       "</table>\n",
       "<p>10 rows × 41 columns</p>\n",
       "</div>"
      ],
      "text/plain": [
       "     Unnamed: 0            _id  \\\n",
       "140         140  3038359004148   \n",
       "141         141  3038359004155   \n",
       "142         142  3038359004179   \n",
       "143         143  3038359004186   \n",
       "144         144  3038359004193   \n",
       "145         145  3038359004209   \n",
       "146         146  3038359004544   \n",
       "147         147  3038359004551   \n",
       "148         148  3038359004575   \n",
       "149         149  3038359004582   \n",
       "\n",
       "                                            categories  \\\n",
       "140  Epicerie, Sauces, Sauces tomate, Sauces pour l...   \n",
       "141  Epicerie, Produits à la viande, Sauces, Sauces...   \n",
       "142                    Epicerie, Sauces, Sauces tomate   \n",
       "143                    Epicerie, Sauces, Sauces tomate   \n",
       "144                                                NaN   \n",
       "145  Epicerie, Sauces, Sauce à la crème, Sauces aux...   \n",
       "146  Epicerie, Sauces, Sauces tomate, Sauces pour p...   \n",
       "147                                                NaN   \n",
       "148  Epicerie, Produits à la viande, Sauces, Sauces...   \n",
       "149                    Epicerie, Sauces, Sauces tomate   \n",
       "\n",
       "                                           ingredients  \\\n",
       "140  ['Pulpe de tomates avec morceaux et concentré ...   \n",
       "141  ['Pulpe de tomates', 'concentré de tomates', '...   \n",
       "142  ['Pulpe de tomates', 'concentré de tomates', '...   \n",
       "143  ['Eau', 'concentré de tomates', 'sucre', 'amid...   \n",
       "144                                                 []   \n",
       "145  ['Eau', 'crème', 'champignons de Paris', 'amid...   \n",
       "146  ['Concentré de tomates', 'eau', 'légumes', 'hu...   \n",
       "147                                                NaN   \n",
       "148  ['Pulpe de tomates', 'concentré de tomates', '...   \n",
       "149  ['Pulpe de tomates', 'concentré de tomates', '...   \n",
       "\n",
       "                                            nutriments  \\\n",
       "140  {'energy-kj': 372, 'sugars_unit': 'g', 'fiber_...   \n",
       "141  {'energy_unit': 'kcal', 'carbon-footprint-from...   \n",
       "142  {'sugars_unit': '', 'nova-group': 4, 'salt_uni...   \n",
       "143  {'carbon-footprint-from-known-ingredients_100g...   \n",
       "144  {'energy-kcal_100g': 67, 'fiber_value': 2.5, '...   \n",
       "145  {'fruits-vegetables-nuts_100g': 0, 'nova-group...   \n",
       "146  {'sodium': 1.16, 'salt': 2.9, 'energy_100g': 5...   \n",
       "147                                                 {}   \n",
       "148  {'sodium_unit': 'g', 'carbohydrates_unit': '',...   \n",
       "149  {'nutrition-score-fr': -4, 'carbon-footprint-f...   \n",
       "\n",
       "                                      product_name manufacturing_places  \\\n",
       "140                              Lasagnes Facile !                  NaN   \n",
       "141                           Bolognaise classique                  NaN   \n",
       "142                                   Sauce tomate                  NaN   \n",
       "143            Sauce Tomate Cuisinée Ail & Oignons                  NaN   \n",
       "144  Sauce poulet basquaise Facile le pot de 425 g                  NaN   \n",
       "145     Sauce pour Poulet Crème Champignons Facile                  NaN   \n",
       "146       Sauce tomate cuisinée aux petits légumes                  NaN   \n",
       "147                                   Sauce tomate                  NaN   \n",
       "148                                     Bolognaise                  NaN   \n",
       "149                           Bolognaise Classique              Espagne   \n",
       "\n",
       "                                   category_properties  \\\n",
       "140                                                 {}   \n",
       "141  {'ciqual_food_name:fr': 'Sauce tomate à la via...   \n",
       "142                                                 {}   \n",
       "143                                                 {}   \n",
       "144                                                 {}   \n",
       "145  {'ciqual_food_name:fr': 'Sauce aux champignons...   \n",
       "146                                                 {}   \n",
       "147                                                NaN   \n",
       "148  {'ciqual_food_name:fr': 'Sauce tomate à la via...   \n",
       "149                                                 {}   \n",
       "\n",
       "                                      ingredients_text  \\\n",
       "140  Pulpe de tomates avec morceaux et concentré de...   \n",
       "141  Pulpe de tomates et concentré de tomates (56 %...   \n",
       "142  Pulpe de tomates et concentré de tomates (5506...   \n",
       "143  Eau, concentré de tomates 26 %, sucre, amidon ...   \n",
       "144                                                      \n",
       "145  Eau, crème (LAIT) 26%, champignons de Paris 9%...   \n",
       "146  Concentré de tomates 38 %, eau, légumes 10 % (...   \n",
       "147                                                      \n",
       "148  Pulpe de tomates et concentré de tomates (55%)...   \n",
       "149  Pulpe de tomates et concentré de tomates (55 %...   \n",
       "\n",
       "                                   product_name_fr  ... sugars_100g  \\\n",
       "140                              Lasagnes Facile !  ...         6.5   \n",
       "141                           Bolognaise classique  ...         5.6   \n",
       "142                                   Sauce tomate  ...         5.1   \n",
       "143            Sauce Tomate Cuisinée Ail & Oignons  ...         6.3   \n",
       "144  Sauce poulet basquaise Facile le pot de 425 g  ...         6.5   \n",
       "145     Sauce pour Poulet Crème Champignons Facile  ...         1.4   \n",
       "146       Sauce tomate cuisinée aux petits légumes  ...         9.1   \n",
       "147                                   Sauce tomate  ...         NaN   \n",
       "148                                     Bolognaise  ...         5.1   \n",
       "149                           Bolognaise Classique  ...         5.6   \n",
       "\n",
       "     fruits_vegetables_nuts_estimate_from_ingredients_100g proteins_100g  \\\n",
       "140                                              62.00               2.3   \n",
       "141                                             121.00               4.9   \n",
       "142                                              35.00               4.6   \n",
       "143                                              26.39               1.4   \n",
       "144                                                NaN               1.4   \n",
       "145                                               0.00               1.4   \n",
       "146                                              50.00               2.9   \n",
       "147                                                NaN               NaN   \n",
       "148                                             110.00               4.6   \n",
       "149                                             119.00               4.9   \n",
       "\n",
       "    sodium_100g salt_100g nutrition_score_fr_100g fiber_100g nova_group_100g  \\\n",
       "140       0.480     1.200                     4.0        1.7             4.0   \n",
       "141       0.440     1.100                    -4.0        1.5             4.0   \n",
       "142       0.480     1.200                     7.0        NaN             4.0   \n",
       "143       0.520     1.300                     5.0        1.8             4.0   \n",
       "144       0.470     1.175                     NaN        2.5             NaN   \n",
       "145       0.352     0.880                    10.0        0.9             4.0   \n",
       "146       1.160     2.900                    11.0        1.7             4.0   \n",
       "147         NaN       NaN                     NaN        NaN             NaN   \n",
       "148       0.464     1.160                    -2.0        1.0             4.0   \n",
       "149       0.440     1.100                    -4.0        1.5             4.0   \n",
       "\n",
       "           CATEGORY  SUB_CATEGORY  \n",
       "140           AUTRE         AUTRE  \n",
       "141  VIANDE_POISSON     BOLOGNESE  \n",
       "142           AUTRE         AUTRE  \n",
       "143           AUTRE         AUTRE  \n",
       "144  VIANDE_POISSON        POULET  \n",
       "145  VIANDE_POISSON        POULET  \n",
       "146           AUTRE         AUTRE  \n",
       "147           AUTRE         AUTRE  \n",
       "148  VIANDE_POISSON     BOLOGNESE  \n",
       "149  VIANDE_POISSON     BOLOGNESE  \n",
       "\n",
       "[10 rows x 41 columns]"
      ]
     },
     "execution_count": 374,
     "metadata": {},
     "output_type": "execute_result"
    }
   ],
   "source": [
    "df[140:150]"
   ]
  },
  {
   "cell_type": "code",
   "execution_count": null,
   "metadata": {},
   "outputs": [],
   "source": []
  },
  {
   "cell_type": "code",
   "execution_count": 297,
   "metadata": {},
   "outputs": [],
   "source": [
    "df.to_csv('O_produits_EAN13_categories.csv')"
   ]
  },
  {
   "cell_type": "code",
   "execution_count": null,
   "metadata": {},
   "outputs": [],
   "source": []
  },
  {
   "cell_type": "code",
   "execution_count": null,
   "metadata": {},
   "outputs": [],
   "source": []
  },
  {
   "cell_type": "code",
   "execution_count": 298,
   "metadata": {},
   "outputs": [],
   "source": [
    "df_N_FRANCE = pd.read_csv('N_NIELSEN/N_FRANCE.csv')\n",
    "df_N_FRANCE_EAN13 = np.array(df_N_FRANCE['EAN13_num'])\n",
    "\n",
    "df_FRANCE_FEC_Pesto = pd.read_csv('N_NIELSEN/N_FRANCE_FEC_Pesto.csv')\n",
    "df_FRANCE_FEC_Pesto_EAN13 = np.array(df_FRANCE_FEC_Pesto['EAN13_num'])\n",
    "\n",
    "df_id = np.array(df['_id'])"
   ]
  },
  {
   "cell_type": "code",
   "execution_count": null,
   "metadata": {},
   "outputs": [],
   "source": []
  },
  {
   "cell_type": "code",
   "execution_count": 300,
   "metadata": {},
   "outputs": [
    {
     "data": {
      "text/html": [
       "<div>\n",
       "<style scoped>\n",
       "    .dataframe tbody tr th:only-of-type {\n",
       "        vertical-align: middle;\n",
       "    }\n",
       "\n",
       "    .dataframe tbody tr th {\n",
       "        vertical-align: top;\n",
       "    }\n",
       "\n",
       "    .dataframe thead th {\n",
       "        text-align: right;\n",
       "    }\n",
       "</style>\n",
       "<table border=\"1\" class=\"dataframe\">\n",
       "  <thead>\n",
       "    <tr style=\"text-align: right;\">\n",
       "      <th></th>\n",
       "      <th>Unnamed: 0</th>\n",
       "      <th>CATEGORY</th>\n",
       "      <th>MKT_SEGMENT</th>\n",
       "      <th>KPI</th>\n",
       "      <th>EAN13_num</th>\n",
       "      <th>MARQUE</th>\n",
       "      <th>RECETTES</th>\n",
       "      <th>ORGANIC</th>\n",
       "      <th>WEIGHT_num</th>\n",
       "      <th>EMBALLAGE</th>\n",
       "      <th>...</th>\n",
       "      <th>4 S 11/08/19</th>\n",
       "      <th>4 S 08/09/19</th>\n",
       "      <th>4 S 06/10/19</th>\n",
       "      <th>4 S 03/11/19</th>\n",
       "      <th>4 S 01/12/19</th>\n",
       "      <th>4 S 29/12/19</th>\n",
       "      <th>EAN13</th>\n",
       "      <th>WEIGHT</th>\n",
       "      <th>NIELSEN_DESCRIPTION</th>\n",
       "      <th>INITIAL_INDEX</th>\n",
       "    </tr>\n",
       "  </thead>\n",
       "  <tbody>\n",
       "    <tr>\n",
       "      <td>0</td>\n",
       "      <td>231</td>\n",
       "      <td>SAUCES POUR FECULENTS</td>\n",
       "      <td>HMSM + PROXI + DRIVE + SDMP</td>\n",
       "      <td>Ventes Volume</td>\n",
       "      <td>3038359009204</td>\n",
       "      <td>PANZANI</td>\n",
       "      <td>PEST BASIL PARM</td>\n",
       "      <td>0</td>\n",
       "      <td>120</td>\n",
       "      <td>COUPELLE</td>\n",
       "      <td>...</td>\n",
       "      <td>1211.8</td>\n",
       "      <td>1131.1</td>\n",
       "      <td>762.3</td>\n",
       "      <td>661.4</td>\n",
       "      <td>576.6</td>\n",
       "      <td>595.4</td>\n",
       "      <td>3.038359e+12</td>\n",
       "      <td>120.0</td>\n",
       "      <td>COUPELLE PANZANI SA PANZANI PESTO PF PEST BASI...</td>\n",
       "      <td>281</td>\n",
       "    </tr>\n",
       "    <tr>\n",
       "      <td>1</td>\n",
       "      <td>232</td>\n",
       "      <td>SAUCES POUR FECULENTS</td>\n",
       "      <td>HMSM + PROXI + DRIVE + SDMP</td>\n",
       "      <td>Ventes Volume</td>\n",
       "      <td>3038359009211</td>\n",
       "      <td>PANZANI</td>\n",
       "      <td>PESTO TOM SECHE</td>\n",
       "      <td>0</td>\n",
       "      <td>120</td>\n",
       "      <td>COUPELLE</td>\n",
       "      <td>...</td>\n",
       "      <td>169.1</td>\n",
       "      <td>158.2</td>\n",
       "      <td>132.2</td>\n",
       "      <td>131.8</td>\n",
       "      <td>128.4</td>\n",
       "      <td>139.2</td>\n",
       "      <td>3.038359e+12</td>\n",
       "      <td>120.0</td>\n",
       "      <td>COUPELLE PANZANI SA PANZANI PESTO PF PESTO TOM...</td>\n",
       "      <td>282</td>\n",
       "    </tr>\n",
       "    <tr>\n",
       "      <td>2</td>\n",
       "      <td>234</td>\n",
       "      <td>SAUCES POUR FECULENTS</td>\n",
       "      <td>HMSM + PROXI + DRIVE + SDMP</td>\n",
       "      <td>Ventes Volume</td>\n",
       "      <td>3021690018899</td>\n",
       "      <td>ZAPETTI BUITONI</td>\n",
       "      <td>PESTO VERD</td>\n",
       "      <td>0</td>\n",
       "      <td>40</td>\n",
       "      <td>DOSE</td>\n",
       "      <td>...</td>\n",
       "      <td>0.0</td>\n",
       "      <td>0.0</td>\n",
       "      <td>0.0</td>\n",
       "      <td>0.0</td>\n",
       "      <td>0.0</td>\n",
       "      <td>0.0</td>\n",
       "      <td>3.021690e+12</td>\n",
       "      <td>40.0</td>\n",
       "      <td>FECULENTS DOSE ZAPETTI ZAPETTI BUITONI PESTO F...</td>\n",
       "      <td>287</td>\n",
       "    </tr>\n",
       "    <tr>\n",
       "      <td>3</td>\n",
       "      <td>237</td>\n",
       "      <td>SAUCES POUR FECULENTS</td>\n",
       "      <td>HMSM + PROXI + DRIVE + SDMP</td>\n",
       "      <td>Ventes Volume</td>\n",
       "      <td>8076809542012</td>\n",
       "      <td>BARILLA</td>\n",
       "      <td>PESTO VERD</td>\n",
       "      <td>0</td>\n",
       "      <td>500</td>\n",
       "      <td>DOY PAC</td>\n",
       "      <td>...</td>\n",
       "      <td>1.0</td>\n",
       "      <td>2.5</td>\n",
       "      <td>1.5</td>\n",
       "      <td>0.5</td>\n",
       "      <td>2.0</td>\n",
       "      <td>1.0</td>\n",
       "      <td>8.076810e+12</td>\n",
       "      <td>500.0</td>\n",
       "      <td>SAUCES POUR FECULENTS DOY PAC BARILLA PESTO MF...</td>\n",
       "      <td>293</td>\n",
       "    </tr>\n",
       "    <tr>\n",
       "      <td>4</td>\n",
       "      <td>240</td>\n",
       "      <td>SAUCES POUR FECULENTS</td>\n",
       "      <td>HMSM + PROXI + DRIVE + SDMP</td>\n",
       "      <td>Ventes Volume</td>\n",
       "      <td>3038352870207</td>\n",
       "      <td>PANZANI</td>\n",
       "      <td>PESTO VERD</td>\n",
       "      <td>0</td>\n",
       "      <td>1000</td>\n",
       "      <td>DOY PAC</td>\n",
       "      <td>...</td>\n",
       "      <td>16.0</td>\n",
       "      <td>12.0</td>\n",
       "      <td>4.0</td>\n",
       "      <td>4.0</td>\n",
       "      <td>0.0</td>\n",
       "      <td>3.0</td>\n",
       "      <td>3.038353e+12</td>\n",
       "      <td>1000.0</td>\n",
       "      <td>FECULENTS DOY PAC PANZANI SA PANZANI PESTO TGF...</td>\n",
       "      <td>300</td>\n",
       "    </tr>\n",
       "  </tbody>\n",
       "</table>\n",
       "<p>5 rows × 47 columns</p>\n",
       "</div>"
      ],
      "text/plain": [
       "   Unnamed: 0               CATEGORY                  MKT_SEGMENT  \\\n",
       "0         231  SAUCES POUR FECULENTS  HMSM + PROXI + DRIVE + SDMP   \n",
       "1         232  SAUCES POUR FECULENTS  HMSM + PROXI + DRIVE + SDMP   \n",
       "2         234  SAUCES POUR FECULENTS  HMSM + PROXI + DRIVE + SDMP   \n",
       "3         237  SAUCES POUR FECULENTS  HMSM + PROXI + DRIVE + SDMP   \n",
       "4         240  SAUCES POUR FECULENTS  HMSM + PROXI + DRIVE + SDMP   \n",
       "\n",
       "               KPI      EAN13_num           MARQUE         RECETTES  ORGANIC  \\\n",
       "0  Ventes Volume    3038359009204          PANZANI  PEST BASIL PARM        0   \n",
       "1  Ventes Volume    3038359009211          PANZANI  PESTO TOM SECHE        0   \n",
       "2  Ventes Volume    3021690018899  ZAPETTI BUITONI       PESTO VERD        0   \n",
       "3  Ventes Volume    8076809542012          BARILLA       PESTO VERD        0   \n",
       "4  Ventes Volume    3038352870207          PANZANI       PESTO VERD        0   \n",
       "\n",
       "   WEIGHT_num EMBALLAGE  ... 4 S 11/08/19 4 S 08/09/19 4 S 06/10/19  \\\n",
       "0         120  COUPELLE  ...       1211.8       1131.1        762.3   \n",
       "1         120  COUPELLE  ...        169.1        158.2        132.2   \n",
       "2          40      DOSE  ...          0.0          0.0          0.0   \n",
       "3         500   DOY PAC  ...          1.0          2.5          1.5   \n",
       "4        1000   DOY PAC  ...         16.0         12.0          4.0   \n",
       "\n",
       "  4 S 03/11/19 4 S 01/12/19  4 S 29/12/19         EAN13  WEIGHT  \\\n",
       "0        661.4        576.6         595.4  3.038359e+12   120.0   \n",
       "1        131.8        128.4         139.2  3.038359e+12   120.0   \n",
       "2          0.0          0.0           0.0  3.021690e+12    40.0   \n",
       "3          0.5          2.0           1.0  8.076810e+12   500.0   \n",
       "4          4.0          0.0           3.0  3.038353e+12  1000.0   \n",
       "\n",
       "                                 NIELSEN_DESCRIPTION  INITIAL_INDEX  \n",
       "0  COUPELLE PANZANI SA PANZANI PESTO PF PEST BASI...            281  \n",
       "1  COUPELLE PANZANI SA PANZANI PESTO PF PESTO TOM...            282  \n",
       "2  FECULENTS DOSE ZAPETTI ZAPETTI BUITONI PESTO F...            287  \n",
       "3  SAUCES POUR FECULENTS DOY PAC BARILLA PESTO MF...            293  \n",
       "4  FECULENTS DOY PAC PANZANI SA PANZANI PESTO TGF...            300  \n",
       "\n",
       "[5 rows x 47 columns]"
      ]
     },
     "execution_count": 300,
     "metadata": {},
     "output_type": "execute_result"
    }
   ],
   "source": [
    "df_FRANCE_FEC_Pesto.head()"
   ]
  },
  {
   "cell_type": "code",
   "execution_count": 265,
   "metadata": {},
   "outputs": [],
   "source": []
  },
  {
   "cell_type": "code",
   "execution_count": null,
   "metadata": {},
   "outputs": [],
   "source": []
  },
  {
   "cell_type": "code",
   "execution_count": 299,
   "metadata": {},
   "outputs": [],
   "source": [
    "df_N_FRANCE_EAN13_in_df_id = np.isin(df_N_FRANCE_EAN13, df_id)\n",
    "df_id_in_df_N_FRANCE_EAN13 = np.isin(df_id, df_N_FRANCE_EAN13)"
   ]
  },
  {
   "cell_type": "code",
   "execution_count": 269,
   "metadata": {},
   "outputs": [
    {
     "data": {
      "text/plain": [
       "array([ True,  True,  True, ...,  True,  True,  True])"
      ]
     },
     "execution_count": 269,
     "metadata": {},
     "output_type": "execute_result"
    }
   ],
   "source": [
    "df_id_in_df_N_FRANCE_EAN13"
   ]
  },
  {
   "cell_type": "code",
   "execution_count": null,
   "metadata": {},
   "outputs": [],
   "source": []
  },
  {
   "cell_type": "code",
   "execution_count": null,
   "metadata": {},
   "outputs": [],
   "source": [
    "df_FRANCE_FEC_Pesto_EAN13_in_df_id = np.isin(df_FRANCE_FEC_Pesto_EAN13, df_id)\n",
    "df_id_in_df_FRANCE_FEC_Pesto_EAN13 = np.isin(df_id, df_FRANCE_FEC_Pesto_EAN13)"
   ]
  },
  {
   "cell_type": "code",
   "execution_count": null,
   "metadata": {},
   "outputs": [],
   "source": []
  },
  {
   "cell_type": "code",
   "execution_count": null,
   "metadata": {},
   "outputs": [],
   "source": []
  },
  {
   "cell_type": "code",
   "execution_count": 301,
   "metadata": {},
   "outputs": [
    {
     "data": {
      "text/plain": [
       "77.38095238095238"
      ]
     },
     "execution_count": 301,
     "metadata": {},
     "output_type": "execute_result"
    }
   ],
   "source": [
    "df_FRANCE_FEC_Pesto_EAN13_in_df_id.sum() / len(df_FRANCE_FEC_Pesto_EAN13) * 100"
   ]
  },
  {
   "cell_type": "code",
   "execution_count": 302,
   "metadata": {},
   "outputs": [
    {
     "data": {
      "text/plain": [
       "4.551820728291316"
      ]
     },
     "execution_count": 302,
     "metadata": {},
     "output_type": "execute_result"
    }
   ],
   "source": [
    "df_id_in_df_FRANCE_FEC_Pesto_EAN13.sum() / len(df_FRANCE_FEC_Pesto_EAN13) * 100"
   ]
  },
  {
   "cell_type": "code",
   "execution_count": 191,
   "metadata": {},
   "outputs": [],
   "source": []
  },
  {
   "cell_type": "code",
   "execution_count": null,
   "metadata": {},
   "outputs": [],
   "source": []
  },
  {
   "cell_type": "code",
   "execution_count": null,
   "metadata": {},
   "outputs": [],
   "source": []
  },
  {
   "cell_type": "code",
   "execution_count": 321,
   "metadata": {},
   "outputs": [
    {
     "data": {
      "text/plain": [
       "'COUPELLE PANZANI SA PANZANI PESTO PF PEST BASIL PARM 1CT 120G * NON BIO'"
      ]
     },
     "execution_count": 321,
     "metadata": {},
     "output_type": "execute_result"
    }
   ],
   "source": [
    "df_FRANCE_FEC_Pesto['NIELSEN_DESCRIPTION'][0]"
   ]
  },
  {
   "cell_type": "code",
   "execution_count": null,
   "metadata": {},
   "outputs": [],
   "source": []
  },
  {
   "cell_type": "code",
   "execution_count": 273,
   "metadata": {},
   "outputs": [],
   "source": []
  },
  {
   "cell_type": "code",
   "execution_count": null,
   "metadata": {},
   "outputs": [],
   "source": []
  },
  {
   "cell_type": "code",
   "execution_count": null,
   "metadata": {},
   "outputs": [],
   "source": []
  }
 ],
 "metadata": {
  "kernelspec": {
   "display_name": "Python 3",
   "language": "python",
   "name": "python3"
  },
  "language_info": {
   "codemirror_mode": {
    "name": "ipython",
    "version": 3
   },
   "file_extension": ".py",
   "mimetype": "text/x-python",
   "name": "python",
   "nbconvert_exporter": "python",
   "pygments_lexer": "ipython3",
   "version": "3.7.4"
  }
 },
 "nbformat": 4,
 "nbformat_minor": 2
}
